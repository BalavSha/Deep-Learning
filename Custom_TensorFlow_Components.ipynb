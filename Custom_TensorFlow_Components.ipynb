{
  "nbformat": 4,
  "nbformat_minor": 0,
  "metadata": {
    "colab": {
      "provenance": [],
      "authorship_tag": "ABX9TyOErG621+n/soK1+7mmbmeS",
      "include_colab_link": true
    },
    "kernelspec": {
      "name": "python3",
      "display_name": "Python 3"
    },
    "language_info": {
      "name": "python"
    }
  },
  "cells": [
    {
      "cell_type": "markdown",
      "metadata": {
        "id": "view-in-github",
        "colab_type": "text"
      },
      "source": [
        "<a href=\"https://colab.research.google.com/github/BalavSha/Deep-Learning/blob/main/Custom_TensorFlow_Components.ipynb\" target=\"_parent\"><img src=\"https://colab.research.google.com/assets/colab-badge.svg\" alt=\"Open In Colab\"/></a>"
      ]
    },
    {
      "cell_type": "markdown",
      "source": [
        "# <center>**Custom TensorFlow Components**</center>\n",
        "\n",
        "--> Use of **Functional API** instead of **Sequential API**"
      ],
      "metadata": {
        "id": "SUMaluCppgLw"
      }
    },
    {
      "cell_type": "code",
      "execution_count": null,
      "metadata": {
        "id": "_V2Xb3TOpZdy"
      },
      "outputs": [],
      "source": []
    }
  ]
}