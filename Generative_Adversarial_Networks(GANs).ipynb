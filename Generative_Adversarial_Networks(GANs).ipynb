{
  "nbformat": 4,
  "nbformat_minor": 0,
  "metadata": {
    "colab": {
      "provenance": [],
      "authorship_tag": "ABX9TyMnMWYkQ1ha+Di/7pU/cWlI",
      "include_colab_link": true
    },
    "kernelspec": {
      "name": "python3",
      "display_name": "Python 3"
    },
    "language_info": {
      "name": "python"
    },
    "gpuClass": "standard"
  },
  "cells": [
    {
      "cell_type": "markdown",
      "metadata": {
        "id": "view-in-github",
        "colab_type": "text"
      },
      "source": [
        "<a href=\"https://colab.research.google.com/github/BalavSha/Deep-Learning/blob/main/Generative_Adversarial_Networks(GANs).ipynb\" target=\"_parent\"><img src=\"https://colab.research.google.com/assets/colab-badge.svg\" alt=\"Open In Colab\"/></a>"
      ]
    },
    {
      "cell_type": "markdown",
      "source": [
        "# <center>**Generative Adversarial Network(GAN)**</center>"
      ],
      "metadata": {
        "id": "5tTN3jw2uzfT"
      }
    },
    {
      "cell_type": "markdown",
      "source": [
        "## **Text Generation**"
      ],
      "metadata": {
        "id": "ut97QLwtwgWm"
      }
    },
    {
      "cell_type": "markdown",
      "source": [
        "Build a sequential model for a **LSTM (Long Short-Term Memory)** neural network:"
      ],
      "metadata": {
        "id": "oEJPUrLgz1sQ"
      }
    },
    {
      "cell_type": "code",
      "execution_count": null,
      "metadata": {
        "id": "lZT7Us63tt5t"
      },
      "outputs": [],
      "source": [
        "# Create a sequential model\n",
        "regressor = Sequential()\n",
        "\n",
        "# Add the first LSTM layer with 50 units and 'relu' activation function\n",
        "# Set 'return_sequences' to True as we will add more LSTM layers\n",
        "# The input shape is the shape of the training data\n",
        "regressor.add(LSTM(units=50, activation='relu', return_sequences=True, \\\n",
        "                   input_shape=(X_train.shape[1], 5)))\n",
        "\n",
        "# Add a dropout layer to prevent overfitting\n",
        "regressor.add(Dropout(0.2))\n",
        "\n",
        "# Add the second LSTM layer with 60 units and 'relu' activation function\n",
        "# Set 'return_sequences' to True as we will add more LSTM layers\n",
        "regressor.add(LSTM(units=60, activation='relu', return_sequences=True))\n",
        "\n",
        "# Add another dropout layer\n",
        "regressor.add(Dropout(0.3))\n",
        "\n",
        "# Add the third LSTM layer with 80 units and 'relu' activation function\n",
        "# Set 'return_sequences' to True as we will add more LSTM layers\n",
        "regressor.add(LSTM(units=80, activation='relu', return_sequences=True))\n",
        "\n",
        "# Add another dropout layer\n",
        "regressor.add(Dropout(0.4))\n",
        "\n",
        "# Add the fourth LSTM layer with 120 units and 'relu' activation function\n",
        "regressor.add(LSTM(units=120, activation='relu'))\n",
        "\n",
        "# Add another dropout layer\n",
        "regressor.add(Dropout(0.5))\n",
        "\n",
        "# Add a dense layer with 1 unit as the output layer\n",
        "regressor.add(Dense(units=1))\n"
      ]
    },
    {
      "cell_type": "markdown",
      "source": [
        "## **Extending NLP Sequence Models to Generate Text:**\n",
        "\n",
        "**Steps Involved are:**\n",
        "\n",
        "*   **Dataset cleaning** encompasses the conversion of the case to lowercase, removing punctuation.\n",
        "\n",
        "*   **Tokenization** is breaking up a character sequence into specified units called tokens.\n",
        "\n",
        "*   **Padding** is a way to make input sentences of different sizes the same by padding them.\n",
        "\n",
        "*   **Padding the sequences** refers to making sure that the sequences have a uniform length.\n",
        "\n",
        "*   **Stemming** is truncating words down to their stem. For example, the words *rainy* and *raining* both have the stem *rain*."
      ],
      "metadata": {
        "id": "tH2ABx0Q01yR"
      }
    },
    {
      "cell_type": "markdown",
      "source": [
        "### ***--> Dataset Cleaning:***"
      ],
      "metadata": {
        "id": "E48dGits2JVP"
      }
    },
    {
      "cell_type": "markdown",
      "source": [
        "*Create a function to clean text and returns list of words after cleaning. Converting all words in lowercase and encoding for character standardization.*"
      ],
      "metadata": {
        "id": "j0Fvm3tj2x03"
      }
    },
    {
      "cell_type": "code",
      "source": [
        "# Define a function to clean text\n",
        "def clean_text(txt):\n",
        "\n",
        "    # Remove punctuation from the text and convert it to lowercase\n",
        "    txt = \"\".join(v for v in txt if v not in string.punctuation).lower()\n",
        "\n",
        "    # Encode the text as utf-8 and decode it as ascii, ignoring any errors\n",
        "    txt = txt.encode(\"utf8\").decode(\"ascii\", 'ignore')\n",
        "    \n",
        "    # Return the cleaned text\n",
        "    return txt\n",
        "\n",
        "# Apply the clean_text function to all headlines in the 'all_headlines' list\n",
        "corpus = [clean_text(x) for x in all_headlines]\n",
        "\n",
        "# Print the first 10 elements of the 'corpus' list\n",
        "corpus[:10]"
      ],
      "metadata": {
        "id": "-rqLOmpB07dW"
      },
      "execution_count": null,
      "outputs": []
    },
    {
      "cell_type": "markdown",
      "source": [
        "### ***--> Generating a Sequence and Tokenization:***"
      ],
      "metadata": {
        "id": "wk0SlKbj3cYW"
      }
    },
    {
      "cell_type": "code",
      "source": [
        "# import tokenizer class from keras\n",
        "from tensorflow.keras.preprocessing.text import Tokenizer\n",
        "\n",
        "# Create a Tokenizer object\n",
        "tokenizer = Tokenizer()\n",
        "\n",
        "# Define a function to get sequences of tokens from a corpus\n",
        "def get_seq_of_tokens(corpus):\n",
        "\n",
        "    # Fit the tokenizer on the corpus\n",
        "    tokenizer.fit_on_texts(corpus)\n",
        "\n",
        "    # Get the total number of words in the tokenizer's word index\n",
        "    all_words = len(tokenizer.word_index) + 1\n",
        "\n",
        "    # Initialize an empty list to store the input sequences\n",
        "    input_seq = []\n",
        "\n",
        "    # Iterate over each line in the corpus\n",
        "    for line in corpus:\n",
        "\n",
        "        # Convert the line to a sequence of tokens\n",
        "        token_list = tokenizer.texts_to_sequences([line])[0]\n",
        "\n",
        "        # Iterate over each token in the token list\n",
        "        for i in range(1, len(token_list)):\n",
        "\n",
        "            # Get the n-gram sequence of tokens\n",
        "            n_gram_sequence = token_list[:i+1]\n",
        "            \n",
        "            # Append the n-gram sequence to the input sequences list\n",
        "            input_seq.append(n_gram_sequence)\n",
        "\n",
        "    # Return the input sequences and the total number of words\n",
        "    return input_seq, all_words\n",
        "\n",
        "# Get the sequences of tokens and the total number of words from the 'corpus' list\n",
        "your_sequences, all_words = get_seq_of_tokens(corpus)\n",
        "\n",
        "# Print the first 10 elements of the 'your_sequences' list\n",
        "your_sequences[:10]"
      ],
      "metadata": {
        "id": "DWeSv_9K4BbU"
      },
      "execution_count": null,
      "outputs": []
    },
    {
      "cell_type": "markdown",
      "source": [
        "### ***--> Padding Sequences***"
      ],
      "metadata": {
        "id": "6KbzFgxC5gSt"
      }
    },
    {
      "cell_type": "markdown",
      "source": [
        "*Create a function to pad each Sequence to make their lengths equal to match length of longest sequence in the text Corpus*"
      ],
      "metadata": {
        "id": "6WP9d_HY56z-"
      }
    },
    {
      "cell_type": "code",
      "source": [
        "# Define a function to generate padded sequences\n",
        "def generate_padded_sequences(input_seq):\n",
        "\n",
        "    # Get the maximum sequence length\n",
        "    max_sequence_len = max([len(x) for x in input_seq])\n",
        "\n",
        "    # Pad the input sequences with zeros, in the beginning of sentences\n",
        "    input_seq = np.array(pad_sequences(input_seq, maxlen=max_sequence_len, padding='pre'))\n",
        "\n",
        "    # Split the input sequences into predictors and label\n",
        "    predictors, label = input_seq[:, :-1], input_seq[:, -1]\n",
        "\n",
        "    # Convert the label to categorical format\n",
        "    label = keras.utils.to_categorical(label, num_classes=all_words)\n",
        "\n",
        "    # Return the predictors, label, and maximum sequence length\n",
        "    return predictors, label, max_sequence_len\n",
        "\n",
        "# Generate padded sequences from the 'your_sequences' list\n",
        "predictors, label, max_sequence_len = generate_padded_sequences(your_sequences)"
      ],
      "metadata": {
        "id": "mdqj_6N_5lUZ"
      },
      "execution_count": null,
      "outputs": []
    },
    {
      "cell_type": "markdown",
      "source": [
        "------\n",
        "\n",
        "------"
      ],
      "metadata": {
        "id": "glMTDOow629u"
      }
    },
    {
      "cell_type": "markdown",
      "source": [
        "#### **Building LSTM Model to generate new news headlines using the historical news information from the dataset**"
      ],
      "metadata": {
        "id": "JEiUxUXa7UEO"
      }
    },
    {
      "cell_type": "markdown",
      "source": [
        "*Important required libraries*"
      ],
      "metadata": {
        "id": "y1ehPCj17-GN"
      }
    },
    {
      "cell_type": "code",
      "source": [
        "# Import the pad_sequences function from the Keras library\n",
        "from tensorflow.keras.preprocessing.sequence import pad_sequences\n",
        "\n",
        "# Import the Sequential class from the Keras library\n",
        "from tensorflow.keras.models import Sequential\n",
        "\n",
        "# Import the Embedding, LSTM, Dense, and Dropout layers from the Keras library\n",
        "from tensorflow.keras.layers import Embedding, LSTM, Dense, Dropout\n",
        "\n",
        "# Import the keras.utils module as ku\n",
        "import tensorflow.keras.utils as ku\n",
        "\n",
        "# Import the Tokenizer class from the Keras library\n",
        "from tensorflow.keras.preprocessing.text import Tokenizer\n",
        "\n",
        "# Import the pandas library as pd\n",
        "import pandas as pd\n",
        "# Import the numpy library as np\n",
        "import numpy as np\n",
        "\n",
        "# Import the EarlyStopping callback from the Keras library\n",
        "from tensorflow.keras.callbacks import EarlyStopping\n",
        "\n",
        "# Import the string and os modules\n",
        "import string, os\n",
        "\n",
        "# Import the warnings module\n",
        "import warnings\n",
        "# Ignore all warnings\n",
        "warnings.filterwarnings(\"ignore\")\n",
        "warnings.simplefilter(action='ignore', category=FutureWarning)"
      ],
      "metadata": {
        "id": "XwCAjoer65Er"
      },
      "execution_count": null,
      "outputs": []
    },
    {
      "cell_type": "markdown",
      "source": [
        "*Load the Article dataset and display its length:*\n",
        "--> **Load the Articles.csv dataset in the colab folder first**"
      ],
      "metadata": {
        "id": "Bwr9iNdv9ey9"
      }
    },
    {
      "cell_type": "code",
      "source": [
        "# Set the directory path\n",
        "your_dir = '/content/'\n",
        "\n",
        "# Initialize an empty list to store the headlines\n",
        "all_headlines = []\n",
        "\n",
        "# Iterate over each file in the directory\n",
        "for filename in os.listdir(your_dir):\n",
        "\n",
        "    # Check if the filename contains 'Articles'\n",
        "    if 'Articles' in filename:\n",
        "\n",
        "        # Read the CSV file into a DataFrame\n",
        "        article_df = pd.read_csv(your_dir + filename)\n",
        "\n",
        "        # Extend the headlines list with the values from the 'headline' column\n",
        "        all_headlines.extend(list(article_df.headline.values))\n",
        "\n",
        "        # Break out of the loop\n",
        "        break\n",
        "\n",
        "# Filter out any headlines with the value 'Unknown'\n",
        "all_headlines = [h for h in all_headlines if h != \"Unknown\"]\n",
        "\n",
        "# Print the length of the 'all_headlines' list\n",
        "len(all_headlines)"
      ],
      "metadata": {
        "colab": {
          "base_uri": "https://localhost:8080/"
        },
        "id": "Z3wMtGw18mf9",
        "outputId": "030ce84b-1c0d-4516-b4c4-80987a691e67"
      },
      "execution_count": null,
      "outputs": [
        {
          "output_type": "execute_result",
          "data": {
            "text/plain": [
              "831"
            ]
          },
          "metadata": {},
          "execution_count": 24
        }
      ]
    },
    {
      "cell_type": "markdown",
      "source": [
        "*Create a function to return a list of cleaned words. Convert the text to lowercase and encode it with with \"utf-8\" for character standardization.*"
      ],
      "metadata": {
        "id": "wg3lJHgy-OlY"
      }
    },
    {
      "cell_type": "code",
      "source": [
        "# Define a function to clean text\n",
        "def clean_text(txt):\n",
        "\n",
        "    # Remove punctuation from the text and convert it to lowercase\n",
        "    txt = \"\".join(v for v in txt if v not in string.punctuation).lower()\n",
        "\n",
        "    # Encode the text as utf-8 and decode it as ascii, ignoring any errors\n",
        "    txt = txt.encode(\"utf8\").decode(\"ascii\", 'ignore')\n",
        "\n",
        "    # Return the cleaned text\n",
        "    return txt\n",
        "\n",
        "# Apply the clean_text function to all headlines in the 'all_headlines' list\n",
        "corpus = [clean_text(x) for x in all_headlines]\n",
        "\n",
        "# Print headlines of index(60 - 80) of the 'corpus' list\n",
        "corpus[60:80]"
      ],
      "metadata": {
        "colab": {
          "base_uri": "https://localhost:8080/"
        },
        "id": "Q3TuewXu9tIW",
        "outputId": "492276a0-3f29-4a89-f8a8-4cedf19e098d"
      },
      "execution_count": null,
      "outputs": [
        {
          "output_type": "execute_result",
          "data": {
            "text/plain": [
              "['lets go for a win on opioids',\n",
              " 'floridas vengeful governor',\n",
              " 'how to end the politicization of the courts',\n",
              " 'when dr king came out against vietnam',\n",
              " 'britains trains dont run on time blame capitalism',\n",
              " 'questions for no license plates here using art to transcend prison walls',\n",
              " 'dry spell',\n",
              " 'are there subjects that should be offlimits to artists or to certain artists in particular',\n",
              " 'that is great television',\n",
              " 'thinking in code',\n",
              " 'how gorsuchs influence could be greater than his vote',\n",
              " 'new york today how to ease a hangover',\n",
              " 'trumps gifts to china',\n",
              " 'at penn station rail mishap spurs large and lasting headache',\n",
              " 'chemical attack on syrians ignites worlds outrage',\n",
              " 'adventure is still on babbos menu',\n",
              " 'swimming in the fast lane',\n",
              " 'a national civics exam',\n",
              " 'obama adviser is back in the political cross hairs',\n",
              " 'the hippies have won']"
            ]
          },
          "metadata": {},
          "execution_count": 25
        }
      ]
    },
    {
      "cell_type": "markdown",
      "source": [
        "*Create a function to convert a given corpus of text into a list of input sequences of tokens. It does this by converting each line in the corpus into a sequence of tokens.*"
      ],
      "metadata": {
        "id": "JH_1UZiQ_7JN"
      }
    },
    {
      "cell_type": "code",
      "source": [
        "# Create a Tokenizer object\n",
        "tokenizer = Tokenizer()\n",
        "\n",
        "# Define a function to get sequences of tokens from a corpus\n",
        "def get_seq_of_tokens(corpus):\n",
        "\n",
        "    # Fit the tokenizer on the corpus\n",
        "    tokenizer.fit_on_texts(corpus)\n",
        "\n",
        "    # Get the total number of words in the tokenizer's word index\n",
        "    all_words = len(tokenizer.word_index) + 1\n",
        "\n",
        "    # Initialize an empty list to store the input sequences\n",
        "    input_seq = []\n",
        "\n",
        "    # Iterate over each line in the corpus\n",
        "    for line in corpus:\n",
        "\n",
        "        # Convert each line to a sequence of tokens\n",
        "        token_list = tokenizer.texts_to_sequences([line])[0]\n",
        "\n",
        "        # Iterate over each token in the token list\n",
        "        for i in range(1, len(token_list)):\n",
        "\n",
        "            # Get the n-gram sequence of tokens\n",
        "            n_gram_sequence = token_list[:i+1]\n",
        "\n",
        "            # Append the n-gram sequence to the input sequences list\n",
        "            input_seq.append(n_gram_sequence)\n",
        "\n",
        "    # Return the input sequences and the total number of words\n",
        "    return input_seq, all_words\n",
        "\n",
        "# Get the sequences of tokens and the total number of words from the 'corpus' list\n",
        "your_sequences, all_words = get_seq_of_tokens(corpus)\n",
        "\n",
        "# Print the first 20 elements of the 'your_sequences' list\n",
        "your_sequences[:20]"
      ],
      "metadata": {
        "colab": {
          "base_uri": "https://localhost:8080/"
        },
        "id": "vrVw-7vF_fCy",
        "outputId": "6f5941d1-c74e-4d60-b04c-229608dd34fc"
      },
      "execution_count": null,
      "outputs": [
        {
          "output_type": "execute_result",
          "data": {
            "text/plain": [
              "[[169, 17],\n",
              " [169, 17, 665],\n",
              " [169, 17, 665, 367],\n",
              " [169, 17, 665, 367, 4],\n",
              " [169, 17, 665, 367, 4, 2],\n",
              " [169, 17, 665, 367, 4, 2, 666],\n",
              " [169, 17, 665, 367, 4, 2, 666, 170],\n",
              " [169, 17, 665, 367, 4, 2, 666, 170, 5],\n",
              " [169, 17, 665, 367, 4, 2, 666, 170, 5, 667],\n",
              " [6, 80],\n",
              " [6, 80, 1],\n",
              " [6, 80, 1, 668],\n",
              " [6, 80, 1, 668, 10],\n",
              " [6, 80, 1, 668, 10, 669],\n",
              " [670, 671],\n",
              " [670, 671, 129],\n",
              " [670, 671, 129, 672],\n",
              " [673, 674],\n",
              " [673, 674, 368],\n",
              " [673, 674, 368, 675]]"
            ]
          },
          "metadata": {},
          "execution_count": 26
        }
      ]
    },
    {
      "cell_type": "markdown",
      "source": [
        "*Create a function to pad each Sequence to make their lengths equal to match length of longest sequence in the text Corpus:*"
      ],
      "metadata": {
        "id": "gv5NjLgFCqis"
      }
    },
    {
      "cell_type": "code",
      "source": [
        "# Define a function to generate padded sequences\n",
        "def generate_padded_sequences(input_seq):\n",
        "\n",
        "    # Get the maximum sequence length\n",
        "    max_sequence_len = max([len(x) for x in input_seq])\n",
        "\n",
        "    # Pad the input sequences with zeros in the beginning\n",
        "    input_seq = np.array(pad_sequences(input_seq, maxlen=max_sequence_len, padding='pre'))\n",
        "\n",
        "    # Split the input sequences into predictors and label\n",
        "    predictors, label = input_seq[:, :-1], input_seq[:, -1]\n",
        "\n",
        "    # Convert the label to categorical format\n",
        "    label = ku.to_categorical(label, num_classes=all_words)\n",
        "\n",
        "    # Return the predictors, label, and maximum sequence length\n",
        "    return predictors, label, max_sequence_len\n",
        "\n",
        "# Generate padded sequences from the 'inp_seq' list\n",
        "predictors, label, max_sequence_len = generate_padded_sequences(your_sequences)"
      ],
      "metadata": {
        "id": "U3ru6aSvBzBL"
      },
      "execution_count": null,
      "outputs": []
    },
    {
      "cell_type": "markdown",
      "source": [
        "*Prepare the Model architecture for compiling and training:*"
      ],
      "metadata": {
        "id": "uGxQdTLHD3Mi"
      }
    },
    {
      "cell_type": "code",
      "source": [
        "# define a function to create the model\n",
        "def create_model(max_sequence_len, all_words):\n",
        "\n",
        "  # set the input length\n",
        "  input_len = max_sequence_len - 1\n",
        "\n",
        "  # create a Sequential model\n",
        "  model = Sequential()\n",
        "\n",
        "  # add embedding layer to create word vectors for incoming words\n",
        "  model.add(Embedding(all_words, 10, input_length=input_len))\n",
        "\n",
        "  # add an LSTM layer with 100 units\n",
        "  model.add(LSTM(100))\n",
        "\n",
        "  # add a dropout layer to prevent overfitting\n",
        "  model.add(Dropout(0.1))\n",
        "\n",
        "  # add a output Dense layer with \"all_words\" units and \"softmax\" activation function\n",
        "  model.add(Dense(all_words, activation=\"softmax\"))\n",
        "\n",
        "  # compile the model with \"categorical_crossentropy\" and \"Adam\" optimizer\n",
        "  model.compile(\n",
        "      optimizer = \"adam\",\n",
        "      loss = \"categorical_crossentropy\"\n",
        "              )\n",
        "  \n",
        "  # return the model\n",
        "  return model\n",
        "\n",
        "# create the model using the \"max_sequence_len\" and \"all_words\" variables\n",
        "model = create_model(max_sequence_len, all_words)"
      ],
      "metadata": {
        "id": "QDL_dSNfDlKi"
      },
      "execution_count": null,
      "outputs": []
    },
    {
      "cell_type": "code",
      "source": [
        "# display the summary of model architecture\n",
        "model.summary()"
      ],
      "metadata": {
        "colab": {
          "base_uri": "https://localhost:8080/"
        },
        "id": "DB-rY4W5Ep4H",
        "outputId": "06fa3743-a26d-44bd-cfb1-65c8a3c1a9ee"
      },
      "execution_count": null,
      "outputs": [
        {
          "output_type": "stream",
          "name": "stdout",
          "text": [
            "Model: \"sequential_1\"\n",
            "_________________________________________________________________\n",
            " Layer (type)                Output Shape              Param #   \n",
            "=================================================================\n",
            " embedding_1 (Embedding)     (None, 18, 10)            24220     \n",
            "                                                                 \n",
            " lstm_1 (LSTM)               (None, 100)               44400     \n",
            "                                                                 \n",
            " dropout_1 (Dropout)         (None, 100)               0         \n",
            "                                                                 \n",
            " dense_1 (Dense)             (None, 2422)              244622    \n",
            "                                                                 \n",
            "=================================================================\n",
            "Total params: 313,242\n",
            "Trainable params: 313,242\n",
            "Non-trainable params: 0\n",
            "_________________________________________________________________\n"
          ]
        }
      ]
    },
    {
      "cell_type": "markdown",
      "source": [
        "*Fit the model with data*"
      ],
      "metadata": {
        "id": "kfrovE6pGS7K"
      }
    },
    {
      "cell_type": "code",
      "source": [
        "model.fit(\n",
        "    predictors,\n",
        "    label,\n",
        "    epochs = 200,\n",
        "    verbose = 5\n",
        ")"
      ],
      "metadata": {
        "colab": {
          "base_uri": "https://localhost:8080/"
        },
        "id": "tDZcFyjSGOCh",
        "outputId": "2a03d3d6-f84b-47e8-e4cd-e044b52122dc"
      },
      "execution_count": null,
      "outputs": [
        {
          "output_type": "stream",
          "name": "stdout",
          "text": [
            "Epoch 1/200\n",
            "Epoch 2/200\n",
            "Epoch 3/200\n",
            "Epoch 4/200\n",
            "Epoch 5/200\n",
            "Epoch 6/200\n",
            "Epoch 7/200\n",
            "Epoch 8/200\n",
            "Epoch 9/200\n",
            "Epoch 10/200\n",
            "Epoch 11/200\n",
            "Epoch 12/200\n",
            "Epoch 13/200\n",
            "Epoch 14/200\n",
            "Epoch 15/200\n",
            "Epoch 16/200\n",
            "Epoch 17/200\n",
            "Epoch 18/200\n",
            "Epoch 19/200\n",
            "Epoch 20/200\n",
            "Epoch 21/200\n",
            "Epoch 22/200\n",
            "Epoch 23/200\n",
            "Epoch 24/200\n",
            "Epoch 25/200\n",
            "Epoch 26/200\n",
            "Epoch 27/200\n",
            "Epoch 28/200\n",
            "Epoch 29/200\n",
            "Epoch 30/200\n",
            "Epoch 31/200\n",
            "Epoch 32/200\n",
            "Epoch 33/200\n",
            "Epoch 34/200\n",
            "Epoch 35/200\n",
            "Epoch 36/200\n",
            "Epoch 37/200\n",
            "Epoch 38/200\n",
            "Epoch 39/200\n",
            "Epoch 40/200\n",
            "Epoch 41/200\n",
            "Epoch 42/200\n",
            "Epoch 43/200\n",
            "Epoch 44/200\n",
            "Epoch 45/200\n",
            "Epoch 46/200\n",
            "Epoch 47/200\n",
            "Epoch 48/200\n",
            "Epoch 49/200\n",
            "Epoch 50/200\n",
            "Epoch 51/200\n",
            "Epoch 52/200\n",
            "Epoch 53/200\n",
            "Epoch 54/200\n",
            "Epoch 55/200\n",
            "Epoch 56/200\n",
            "Epoch 57/200\n",
            "Epoch 58/200\n",
            "Epoch 59/200\n",
            "Epoch 60/200\n",
            "Epoch 61/200\n",
            "Epoch 62/200\n",
            "Epoch 63/200\n",
            "Epoch 64/200\n",
            "Epoch 65/200\n",
            "Epoch 66/200\n",
            "Epoch 67/200\n",
            "Epoch 68/200\n",
            "Epoch 69/200\n",
            "Epoch 70/200\n",
            "Epoch 71/200\n",
            "Epoch 72/200\n",
            "Epoch 73/200\n",
            "Epoch 74/200\n",
            "Epoch 75/200\n",
            "Epoch 76/200\n",
            "Epoch 77/200\n",
            "Epoch 78/200\n",
            "Epoch 79/200\n",
            "Epoch 80/200\n",
            "Epoch 81/200\n",
            "Epoch 82/200\n",
            "Epoch 83/200\n",
            "Epoch 84/200\n",
            "Epoch 85/200\n",
            "Epoch 86/200\n",
            "Epoch 87/200\n",
            "Epoch 88/200\n",
            "Epoch 89/200\n",
            "Epoch 90/200\n",
            "Epoch 91/200\n",
            "Epoch 92/200\n",
            "Epoch 93/200\n",
            "Epoch 94/200\n",
            "Epoch 95/200\n",
            "Epoch 96/200\n",
            "Epoch 97/200\n",
            "Epoch 98/200\n",
            "Epoch 99/200\n",
            "Epoch 100/200\n",
            "Epoch 101/200\n",
            "Epoch 102/200\n",
            "Epoch 103/200\n",
            "Epoch 104/200\n",
            "Epoch 105/200\n",
            "Epoch 106/200\n",
            "Epoch 107/200\n",
            "Epoch 108/200\n",
            "Epoch 109/200\n",
            "Epoch 110/200\n",
            "Epoch 111/200\n",
            "Epoch 112/200\n",
            "Epoch 113/200\n",
            "Epoch 114/200\n",
            "Epoch 115/200\n",
            "Epoch 116/200\n",
            "Epoch 117/200\n",
            "Epoch 118/200\n",
            "Epoch 119/200\n",
            "Epoch 120/200\n",
            "Epoch 121/200\n",
            "Epoch 122/200\n",
            "Epoch 123/200\n",
            "Epoch 124/200\n",
            "Epoch 125/200\n",
            "Epoch 126/200\n",
            "Epoch 127/200\n",
            "Epoch 128/200\n",
            "Epoch 129/200\n",
            "Epoch 130/200\n",
            "Epoch 131/200\n",
            "Epoch 132/200\n",
            "Epoch 133/200\n",
            "Epoch 134/200\n",
            "Epoch 135/200\n",
            "Epoch 136/200\n",
            "Epoch 137/200\n",
            "Epoch 138/200\n",
            "Epoch 139/200\n",
            "Epoch 140/200\n",
            "Epoch 141/200\n",
            "Epoch 142/200\n",
            "Epoch 143/200\n",
            "Epoch 144/200\n",
            "Epoch 145/200\n",
            "Epoch 146/200\n",
            "Epoch 147/200\n",
            "Epoch 148/200\n",
            "Epoch 149/200\n",
            "Epoch 150/200\n",
            "Epoch 151/200\n",
            "Epoch 152/200\n",
            "Epoch 153/200\n",
            "Epoch 154/200\n",
            "Epoch 155/200\n",
            "Epoch 156/200\n",
            "Epoch 157/200\n",
            "Epoch 158/200\n",
            "Epoch 159/200\n",
            "Epoch 160/200\n",
            "Epoch 161/200\n",
            "Epoch 162/200\n",
            "Epoch 163/200\n",
            "Epoch 164/200\n",
            "Epoch 165/200\n",
            "Epoch 166/200\n",
            "Epoch 167/200\n",
            "Epoch 168/200\n",
            "Epoch 169/200\n",
            "Epoch 170/200\n",
            "Epoch 171/200\n",
            "Epoch 172/200\n",
            "Epoch 173/200\n",
            "Epoch 174/200\n",
            "Epoch 175/200\n",
            "Epoch 176/200\n",
            "Epoch 177/200\n",
            "Epoch 178/200\n",
            "Epoch 179/200\n",
            "Epoch 180/200\n",
            "Epoch 181/200\n",
            "Epoch 182/200\n",
            "Epoch 183/200\n",
            "Epoch 184/200\n",
            "Epoch 185/200\n",
            "Epoch 186/200\n",
            "Epoch 187/200\n",
            "Epoch 188/200\n",
            "Epoch 189/200\n",
            "Epoch 190/200\n",
            "Epoch 191/200\n",
            "Epoch 192/200\n",
            "Epoch 193/200\n",
            "Epoch 194/200\n",
            "Epoch 195/200\n",
            "Epoch 196/200\n",
            "Epoch 197/200\n",
            "Epoch 198/200\n",
            "Epoch 199/200\n",
            "Epoch 200/200\n"
          ]
        },
        {
          "output_type": "execute_result",
          "data": {
            "text/plain": [
              "<keras.callbacks.History at 0x7f3fe13fbe20>"
            ]
          },
          "metadata": {},
          "execution_count": 30
        }
      ]
    },
    {
      "cell_type": "markdown",
      "source": [
        "**Create a function that will generate a headline given a starting seed text, the number of words to generate, the model, and the maximum sequence length.** <br>\n",
        "\n",
        "*The function will include a for loop to iterate over the number of words to generate.* <br>\n",
        "\n",
        "*In each iteration, the tokenizer will tokenize the text, and then pad the sequence before predicting the next word in the sequence.* <br>\n",
        "\n",
        "*Next, the iteration will convert the token back into a word and add it to the sentence.* <br>\n",
        "\n",
        "*Once the for loop completes, the generated headline will be returned:*"
      ],
      "metadata": {
        "id": "tIWxmOCkIJNp"
      }
    },
    {
      "cell_type": "code",
      "source": [
        "# Define a function to generate text\n",
        "def generate_text(seed_text, next_words, model, max_sequence_len):\n",
        "\n",
        "    # Iterate for the number of next words to generate\n",
        "    for _ in range(next_words):\n",
        "\n",
        "        # Convert the seed text to a sequence of tokens\n",
        "        token_list = tokenizer.texts_to_sequences([seed_text])[0]\n",
        "\n",
        "        # Pad the token list with zeros\n",
        "        token_list = pad_sequences([token_list], maxlen=max_sequence_len-1, padding='pre')\n",
        "\n",
        "        # Make a prediction using the model\n",
        "        predicted = model.predict(token_list, verbose=0)\n",
        "\n",
        "        # Initialize an empty string to store the output word\n",
        "        output_word = \"\"\n",
        "\n",
        "        # Iterate over each word and index in the tokenizer's word index\n",
        "        for word, index in tokenizer.word_index.items():\n",
        "\n",
        "            # Check if the index matches the predicted value\n",
        "            if index == np.argmax(predicted):\n",
        "\n",
        "                # Set the output word to the current word\n",
        "                output_word = word\n",
        "\n",
        "                # Break out of the loop\n",
        "                break\n",
        "\n",
        "        # Append the output word to the seed text\n",
        "        seed_text += \" \" + output_word\n",
        "\n",
        "    # Return the generated text with title casing\n",
        "    return seed_text.title()"
      ],
      "metadata": {
        "id": "82cjq4vFGlkG"
      },
      "execution_count": null,
      "outputs": []
    },
    {
      "cell_type": "markdown",
      "source": [
        "*Use the function above to output text generation as below:*"
      ],
      "metadata": {
        "id": "E0eRODUMJ0Oa"
      }
    },
    {
      "cell_type": "code",
      "source": [
        "# Generate text using the 'generate_text' function and print the result\n",
        "print(generate_text(\"Balav is a Machine Learning\", 5, model, max_sequence_len))\n",
        "print()\n",
        "print(generate_text(\"europe looks to\", 8, model, max_sequence_len))\n",
        "print()\n",
        "print(generate_text(\"best way\", 10, model, max_sequence_len))\n",
        "print()\n",
        "print(generate_text(\"homeless in\", 10, model, max_sequence_len))\n",
        "print()\n",
        "print(generate_text(\"unexpected results\", 10, model, max_sequence_len))\n",
        "print()\n",
        "print(generate_text(\"Are there subjects that should be offlimits to artists or to certain artists in\", 1, model, max_sequence_len))"
      ],
      "metadata": {
        "colab": {
          "base_uri": "https://localhost:8080/"
        },
        "id": "pzuyErZgJzKX",
        "outputId": "8d7b2017-c1b1-4e05-8c20-8fb5fd1035b7"
      },
      "execution_count": null,
      "outputs": [
        {
          "output_type": "stream",
          "name": "stdout",
          "text": [
            "Balav Is A Machine Learning Of The Border On Official\n",
            "\n",
            "Europe Looks To Feel Really American Try Some Velveeta To Use\n",
            "\n",
            "Best Way To Move Forward Sets May You 2017 Warm 2017 Men\n",
            "\n",
            "Homeless In The Center Of A Classic Nasty Woman On An Elegy\n",
            "\n",
            "Unexpected Results Isnt That Could Expand Access To Fossil Fuels Thinks Nuisance\n",
            "\n",
            "Are There Subjects That Should Be Offlimits To Artists Or To Certain Artists In Particular\n"
          ]
        }
      ]
    },
    {
      "cell_type": "markdown",
      "source": [
        "------\n",
        "\n",
        "------"
      ],
      "metadata": {
        "id": "Gl4d9V41O-Oe"
      }
    },
    {
      "cell_type": "code",
      "source": [
        "generate_text(\"Reshi is a -->\", 1, model, max_sequence_len)\n",
        "\n",
        "generate_text(\"Reshi from Bhutan is a -->\", 6, model, max_sequence_len)\n",
        "\n",
        "generate_text(\"Reshi from India is a -->\", 6, model, max_sequence_len)\n",
        "\n",
        "generate_text(\"Balav from Bhutan loves to -->\", 5, model, max_sequence_len)"
      ],
      "metadata": {
        "colab": {
          "base_uri": "https://localhost:8080/"
        },
        "id": "zY-W8LyHRjZY",
        "outputId": "7b555eaf-932a-4524-d359-6abdde21a210"
      },
      "execution_count": null,
      "outputs": [
        {
          "output_type": "stream",
          "name": "stdout",
          "text": [
            "Prediting next words:\n",
            "Reshi Is A --> Lies \n",
            "\n",
            "Reshi From Bhutan Is A --> Different Democratic For But Play District \n",
            "\n",
            "Reshi From India Is A --> Hangover 400 Feet But Play Catch \n",
            "\n",
            "Balav From Bhutan Loves To --> Deplorable Remarks To Your Home \n",
            "\n"
          ]
        }
      ]
    },
    {
      "cell_type": "markdown",
      "source": [
        "# <center>**Generative Adversarial Networks(GANs)**</center>\n",
        "\n",
        "**--> GANs are networks that generates new, synthetic data by learning patterns and underlying representations from a training dataset.** <br>\n",
        "\n",
        "**--> GANs consists of Generator and Discriminator that competes with one another to generate new data that looks like it could have come from original data.** <br>\n",
        "\n",
        "--> For instance, generating a new Images based on a given Images dataset."
      ],
      "metadata": {
        "id": "gvzvT5EePjUQ"
      }
    },
    {
      "cell_type": "markdown",
      "source": [
        "#### ***a) The Generator --> generates new data from original data and tries to generate data that looks real to the Discriminator.***"
      ],
      "metadata": {
        "id": "PcUOzt1BZkW-"
      }
    },
    {
      "cell_type": "code",
      "source": [
        "# function to create the Generator Model for GANs\n",
        "def define_your_gen(latent_dim, n_outputs=2):\n",
        "\n",
        "    # create a model with a sequential structure\n",
        "    model = Sequential()\n",
        "\n",
        "    # add a dense layer with 5 units, relu activation function, he_uniform kernel initializer \n",
        "    # and input dimension equal to latent_dim\n",
        "    model.add(Dense(5, activation='relu', kernel_initializer='he_uniform', input_dim=latent_dim))\n",
        "\n",
        "    # final layer of the generator model = expected size of the output\n",
        "    # add another dense layer with n_outputs units and linear activation function\n",
        "    model.add(Dense(n_outputs, activation='linear'))\n",
        "\n",
        "    # return the created model\n",
        "    return model"
      ],
      "metadata": {
        "id": "XdluL2iwO12Y"
      },
      "execution_count": 1,
      "outputs": []
    },
    {
      "cell_type": "markdown",
      "source": [
        "#### ***b) The Discriminator --> to identify real data from fake data that the generator sends it as input.*** <br>\n",
        "\n",
        "--> The model takes a vector from your generator and makes a prediction as to whether the sample is real or fake. Therefore, you use binary classification."
      ],
      "metadata": {
        "id": "VA7Gb5mscdA1"
      }
    },
    {
      "cell_type": "code",
      "source": [
        "# function to create the Discriminator model for GANs\n",
        "def define_disc(n_inputs=2):\n",
        "\n",
        "    # create a model with a sequential structure\n",
        "    model = Sequential()\n",
        "\n",
        "    # add a dense layer with 25 units, relu activation function, he_uniform kernel initializer \n",
        "    # and input dimension equal to n_inputs\n",
        "    model.add(Dense(25, activation='relu', kernel_initializer='he_uniform', input_dim=n_inputs))\n",
        "\n",
        "    # add output dense layer with 1 unit and sigmoid activation function\n",
        "    # binary classification -> 1 unit\n",
        "    model.add(Dense(1, activation='sigmoid'))\n",
        "\n",
        "    # compile the model with binary crossentropy loss function, adam optimizer and accuracy metric\n",
        "    model.compile(loss='binary_crossentropy', \n",
        "                  optimizer='adam', \n",
        "                  metrics=['accuracy'])\n",
        "\n",
        "    # return the created model\n",
        "    return model"
      ],
      "metadata": {
        "id": "ema7ghaqcHKO"
      },
      "execution_count": 1,
      "outputs": []
    },
    {
      "cell_type": "markdown",
      "source": [
        "#### **The Adversarial Network = The Generator Model + The Discriminator Model**"
      ],
      "metadata": {
        "id": "H0WuxOH2fncM"
      }
    },
    {
      "cell_type": "markdown",
      "source": [
        "## **The Adversarial Network**\n",
        "\n",
        "--> The generator network tries to learn the underlying distribution of the training data and generates similar samples, while the discriminator network tries to catch the fake samples generated by the generator."
      ],
      "metadata": {
        "id": "9wPWV6aygcx1"
      }
    },
    {
      "cell_type": "markdown",
      "source": [
        "![image.png](data:image/png;base64,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) <br>\n",
        "\n",
        "![image.png](data:image/png;base64,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) <br>\n",
        "\n",
        "![image.png](data:image/png;base64,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)"
      ],
      "metadata": {
        "id": "w58dGo7RhRXm"
      }
    },
    {
      "cell_type": "markdown",
      "source": [
        "Create a function to define GANs by combining **the Generator** and **the Discriminator** model:"
      ],
      "metadata": {
        "id": "AKlbZ4YLoJ-E"
      }
    },
    {
      "cell_type": "code",
      "source": [
        "# function to form Generative Adversarial Networks(GANs)\n",
        "def define_your_gan(generator, discriminator):\n",
        "\n",
        "    # set the discriminator to be not trainable\n",
        "    discriminator.trainable = False\n",
        "\n",
        "    # create a model with a sequential structure\n",
        "    model = Sequential()\n",
        "\n",
        "    # add the generator model to the sequential model\n",
        "    model.add(generator)\n",
        "\n",
        "    # add the discriminator model to the sequential model\n",
        "    model.add(discriminator)\n",
        "\n",
        "    # compile the model with binary crossentropy loss function and adam optimizer\n",
        "    model.compile(loss='binary_crossentropy', \n",
        "                  optimizer='adam'\n",
        "                  )\n",
        "\n",
        "    # return the created model\n",
        "    return model"
      ],
      "metadata": {
        "id": "RQW6et0Ue9Vk"
      },
      "execution_count": 2,
      "outputs": []
    },
    {
      "cell_type": "markdown",
      "source": [
        "-----\n",
        "\n",
        "-----"
      ],
      "metadata": {
        "id": "kUxCrTXGrRBB"
      }
    },
    {
      "cell_type": "markdown",
      "source": [
        "### **Generating Sequences with GANs where you will GAN to create a model to generate a Quadratic function(y = x^2) for the values of x b/w (-0.5, 0.5)**"
      ],
      "metadata": {
        "id": "_fcdZbq3rS3I"
      }
    },
    {
      "cell_type": "markdown",
      "source": [
        "*1. Import required libraries*"
      ],
      "metadata": {
        "id": "6HRUzeSGsRVU"
      }
    },
    {
      "cell_type": "code",
      "source": [
        "# import the Sequential class from the keras.models module\n",
        "from tensorflow.keras.models import Sequential\n",
        "\n",
        "# import the hstack, zeros and ones functions from the numpy module\n",
        "from numpy import hstack, zeros, ones\n",
        "\n",
        "# import the rand and randn functions from the numpy.random module\n",
        "from numpy.random import rand, randn\n",
        "\n",
        "# import the Dense class from the keras.layers module\n",
        "from tensorflow.keras.layers import Dense\n",
        "\n",
        "# import the pyplot module from matplotlib and give it an alias plt\n",
        "import matplotlib.pyplot as plt"
      ],
      "metadata": {
        "id": "rFUSaO38pZRL"
      },
      "execution_count": 4,
      "outputs": []
    },
    {
      "cell_type": "markdown",
      "source": [
        "*2. Define the Generator Model as below:*"
      ],
      "metadata": {
        "id": "35TdZTHauNCb"
      }
    },
    {
      "cell_type": "code",
      "source": [
        "# function to define Generator model\n",
        "def define_gen(latent_dim, n_outputs):\n",
        "\n",
        "  # create a Sequential model\n",
        "  model = Sequential()\n",
        "\n",
        "  # add Dense layer with 15 units, relu activation, he_uniform kernel initializer\n",
        "  # and input dimension equal to laten_dim\n",
        "  model.add(Dense(15, activation=\"relu\", kernel_initializer=\"he_uniform\", input_dim=latent_dim))\n",
        "\n",
        "  # add output Dense layer with n_outputs units and \"linear\" activation function\n",
        "  model.add(Dense(n_outputs, activation=\"linear\"))\n",
        "\n",
        "  # return the model\n",
        "  return model"
      ],
      "metadata": {
        "id": "RS7H_-RcslVc"
      },
      "execution_count": 5,
      "outputs": []
    },
    {
      "cell_type": "markdown",
      "source": [
        "*3. Define the Discriminator Model as below:*"
      ],
      "metadata": {
        "id": "FVawKSymwNyj"
      }
    },
    {
      "cell_type": "code",
      "source": [
        "# function to define discriminator model\n",
        "def define_disc(n_inputs=2):\n",
        "\n",
        "  # create a Sequential model\n",
        "  model = Sequential()\n",
        "\n",
        "  # add Dense layer with 25 units, relu activation, he_uniform kernel initializer and input dim\n",
        "  model.add(Dense(25, activation=\"relu\", kernel_initializer=\"he_uniform\", input_dim=n_inputs))\n",
        "\n",
        "  # add Dense output layer to classify where it's fake or real\n",
        "  model.add(Dense(1, activation=\"sigmoid\"))\n",
        "\n",
        "  # compile the model with binary-crossentropy loss function, adam optimizer and accuracy metrics\n",
        "  model.compile(\n",
        "      optimizer = \"adam\",\n",
        "      loss = \"binary_crossentropy\",\n",
        "      metrics = [\"accuracy\"]\n",
        "                )\n",
        "  \n",
        "  # return the model\n",
        "  return model\n"
      ],
      "metadata": {
        "id": "H_CFtg3evYz_"
      },
      "execution_count": 6,
      "outputs": []
    },
    {
      "cell_type": "markdown",
      "source": [
        "*4. Form GANs model by combining the Generator and Discriminator models:*"
      ],
      "metadata": {
        "id": "-0RJRAa-yRK6"
      }
    },
    {
      "cell_type": "code",
      "source": [
        "# function to combine the Generator and Discriminator models\n",
        "def define_your_gen(generator, discriminator):\n",
        "\n",
        "  # set the discriminator to be not trainable\n",
        "  discriminator.trainable = False\n",
        "\n",
        "  # create a Sequential model\n",
        "  model = Sequential()\n",
        "\n",
        "  # add the Generator model to the Sequential model\n",
        "  model.add(generator)\n",
        "\n",
        "  # add the Discriminator model to the Sequential model\n",
        "  model.add(discriminator)\n",
        "\n",
        "  # compile the model with binary-crossentropy loss function & Adam optimizer\n",
        "  model.compile(\n",
        "      optimizer = \"adam\",\n",
        "      loss = \"binary_crossentropy\"\n",
        "                )\n",
        "  \n",
        "  # return the model\n",
        "  return model"
      ],
      "metadata": {
        "id": "6cpHvSnAxycg"
      },
      "execution_count": 7,
      "outputs": []
    },
    {
      "cell_type": "code",
      "source": [],
      "metadata": {
        "id": "zum7KtoHz8uX"
      },
      "execution_count": null,
      "outputs": []
    }
  ]
}