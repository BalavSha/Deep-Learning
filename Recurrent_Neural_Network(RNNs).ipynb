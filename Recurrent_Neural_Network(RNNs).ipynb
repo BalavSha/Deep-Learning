{
  "nbformat": 4,
  "nbformat_minor": 0,
  "metadata": {
    "colab": {
      "provenance": [],
      "include_colab_link": true
    },
    "kernelspec": {
      "name": "python3",
      "display_name": "Python 3"
    },
    "language_info": {
      "name": "python"
    },
    "accelerator": "GPU",
    "gpuClass": "standard"
  },
  "cells": [
    {
      "cell_type": "markdown",
      "metadata": {
        "id": "view-in-github",
        "colab_type": "text"
      },
      "source": [
        "<a href=\"https://colab.research.google.com/github/BalavSha/Deep-Learning/blob/main/Recurrent_Neural_Network(RNNs).ipynb\" target=\"_parent\"><img src=\"https://colab.research.google.com/assets/colab-badge.svg\" alt=\"Open In Colab\"/></a>"
      ]
    },
    {
      "cell_type": "markdown",
      "source": [
        "# <center> **Recurrent Neural Network(RNNs)** </center>\n",
        "\n",
        "--> ANNs to handle sequential data"
      ],
      "metadata": {
        "id": "PCMo8n4AllQO"
      }
    },
    {
      "cell_type": "markdown",
      "source": [
        "You need to develop RNN models that can do the following:\n",
        "\n",
        "\n",
        "*   Handle variable-length input sequences\n",
        "\n",
        "*   Track long-term dependencies in the data\n",
        "\n",
        "*   Maintain information about the sequence's order\n",
        "\n",
        "*   Share parameters across the entirety of the sequence"
      ],
      "metadata": {
        "id": "S30OSyEWgPtZ"
      }
    },
    {
      "cell_type": "markdown",
      "source": [
        "### **Training an ANN for Sequential Data - Nvidia Stock prediction**\n",
        "\n",
        "\n",
        "*   **target variable** -> Price of stock in a given day\n",
        "*   **features** -> Price of a stock in a previous 60 days"
      ],
      "metadata": {
        "id": "oWP4wsGDg5f4"
      }
    },
    {
      "cell_type": "code",
      "execution_count": 1,
      "metadata": {
        "id": "Cx6PBFOKlIrY"
      },
      "outputs": [],
      "source": [
        "# import required libraries\n",
        "import numpy as np\n",
        "import matplotlib.pyplot as plt\n",
        "import pandas as pd"
      ]
    },
    {
      "cell_type": "markdown",
      "source": [
        "1. Import Nvidia Stock Data:"
      ],
      "metadata": {
        "id": "vj7VUSq1By_m"
      }
    },
    {
      "cell_type": "code",
      "source": [
        "# import dataset\n",
        "data = pd.read_csv(\"https://raw.githubusercontent.com/PacktWorkshops/The-TensorFlow-Workshop/master/Chapter09/Datasets/NVDA.csv\")\n",
        "\n",
        "# display first 5 rows of the dataset\n",
        "data.head()"
      ],
      "metadata": {
        "colab": {
          "base_uri": "https://localhost:8080/",
          "height": 206
        },
        "id": "lnKpupIDBgYZ",
        "outputId": "f54b83ef-0c5e-439b-8f34-24252ffb4888"
      },
      "execution_count": 2,
      "outputs": [
        {
          "output_type": "execute_result",
          "data": {
            "text/plain": [
              "         Date       Open       High    Low      Close  Adj Close   Volume\n",
              "0  2015-07-22  19.650000  19.650000  19.17  19.410000  18.851749  8911800\n",
              "1  2015-07-23  19.450001  19.940001  19.41  19.650000  19.084845  4247900\n",
              "2  2015-07-24  19.790001  19.809999  19.34  19.420000  18.861464  4721100\n",
              "3  2015-07-27  19.250000  19.530001  19.09  19.309999  18.754622  4810500\n",
              "4  2015-07-28  19.360001  19.860001  19.16  19.730000  19.162542  4957700"
            ],
            "text/html": [
              "\n",
              "  <div id=\"df-52428d64-ae4d-4684-94f9-83f91d36cefb\">\n",
              "    <div class=\"colab-df-container\">\n",
              "      <div>\n",
              "<style scoped>\n",
              "    .dataframe tbody tr th:only-of-type {\n",
              "        vertical-align: middle;\n",
              "    }\n",
              "\n",
              "    .dataframe tbody tr th {\n",
              "        vertical-align: top;\n",
              "    }\n",
              "\n",
              "    .dataframe thead th {\n",
              "        text-align: right;\n",
              "    }\n",
              "</style>\n",
              "<table border=\"1\" class=\"dataframe\">\n",
              "  <thead>\n",
              "    <tr style=\"text-align: right;\">\n",
              "      <th></th>\n",
              "      <th>Date</th>\n",
              "      <th>Open</th>\n",
              "      <th>High</th>\n",
              "      <th>Low</th>\n",
              "      <th>Close</th>\n",
              "      <th>Adj Close</th>\n",
              "      <th>Volume</th>\n",
              "    </tr>\n",
              "  </thead>\n",
              "  <tbody>\n",
              "    <tr>\n",
              "      <th>0</th>\n",
              "      <td>2015-07-22</td>\n",
              "      <td>19.650000</td>\n",
              "      <td>19.650000</td>\n",
              "      <td>19.17</td>\n",
              "      <td>19.410000</td>\n",
              "      <td>18.851749</td>\n",
              "      <td>8911800</td>\n",
              "    </tr>\n",
              "    <tr>\n",
              "      <th>1</th>\n",
              "      <td>2015-07-23</td>\n",
              "      <td>19.450001</td>\n",
              "      <td>19.940001</td>\n",
              "      <td>19.41</td>\n",
              "      <td>19.650000</td>\n",
              "      <td>19.084845</td>\n",
              "      <td>4247900</td>\n",
              "    </tr>\n",
              "    <tr>\n",
              "      <th>2</th>\n",
              "      <td>2015-07-24</td>\n",
              "      <td>19.790001</td>\n",
              "      <td>19.809999</td>\n",
              "      <td>19.34</td>\n",
              "      <td>19.420000</td>\n",
              "      <td>18.861464</td>\n",
              "      <td>4721100</td>\n",
              "    </tr>\n",
              "    <tr>\n",
              "      <th>3</th>\n",
              "      <td>2015-07-27</td>\n",
              "      <td>19.250000</td>\n",
              "      <td>19.530001</td>\n",
              "      <td>19.09</td>\n",
              "      <td>19.309999</td>\n",
              "      <td>18.754622</td>\n",
              "      <td>4810500</td>\n",
              "    </tr>\n",
              "    <tr>\n",
              "      <th>4</th>\n",
              "      <td>2015-07-28</td>\n",
              "      <td>19.360001</td>\n",
              "      <td>19.860001</td>\n",
              "      <td>19.16</td>\n",
              "      <td>19.730000</td>\n",
              "      <td>19.162542</td>\n",
              "      <td>4957700</td>\n",
              "    </tr>\n",
              "  </tbody>\n",
              "</table>\n",
              "</div>\n",
              "      <button class=\"colab-df-convert\" onclick=\"convertToInteractive('df-52428d64-ae4d-4684-94f9-83f91d36cefb')\"\n",
              "              title=\"Convert this dataframe to an interactive table.\"\n",
              "              style=\"display:none;\">\n",
              "        \n",
              "  <svg xmlns=\"http://www.w3.org/2000/svg\" height=\"24px\"viewBox=\"0 0 24 24\"\n",
              "       width=\"24px\">\n",
              "    <path d=\"M0 0h24v24H0V0z\" fill=\"none\"/>\n",
              "    <path d=\"M18.56 5.44l.94 2.06.94-2.06 2.06-.94-2.06-.94-.94-2.06-.94 2.06-2.06.94zm-11 1L8.5 8.5l.94-2.06 2.06-.94-2.06-.94L8.5 2.5l-.94 2.06-2.06.94zm10 10l.94 2.06.94-2.06 2.06-.94-2.06-.94-.94-2.06-.94 2.06-2.06.94z\"/><path d=\"M17.41 7.96l-1.37-1.37c-.4-.4-.92-.59-1.43-.59-.52 0-1.04.2-1.43.59L10.3 9.45l-7.72 7.72c-.78.78-.78 2.05 0 2.83L4 21.41c.39.39.9.59 1.41.59.51 0 1.02-.2 1.41-.59l7.78-7.78 2.81-2.81c.8-.78.8-2.07 0-2.86zM5.41 20L4 18.59l7.72-7.72 1.47 1.35L5.41 20z\"/>\n",
              "  </svg>\n",
              "      </button>\n",
              "      \n",
              "  <style>\n",
              "    .colab-df-container {\n",
              "      display:flex;\n",
              "      flex-wrap:wrap;\n",
              "      gap: 12px;\n",
              "    }\n",
              "\n",
              "    .colab-df-convert {\n",
              "      background-color: #E8F0FE;\n",
              "      border: none;\n",
              "      border-radius: 50%;\n",
              "      cursor: pointer;\n",
              "      display: none;\n",
              "      fill: #1967D2;\n",
              "      height: 32px;\n",
              "      padding: 0 0 0 0;\n",
              "      width: 32px;\n",
              "    }\n",
              "\n",
              "    .colab-df-convert:hover {\n",
              "      background-color: #E2EBFA;\n",
              "      box-shadow: 0px 1px 2px rgba(60, 64, 67, 0.3), 0px 1px 3px 1px rgba(60, 64, 67, 0.15);\n",
              "      fill: #174EA6;\n",
              "    }\n",
              "\n",
              "    [theme=dark] .colab-df-convert {\n",
              "      background-color: #3B4455;\n",
              "      fill: #D2E3FC;\n",
              "    }\n",
              "\n",
              "    [theme=dark] .colab-df-convert:hover {\n",
              "      background-color: #434B5C;\n",
              "      box-shadow: 0px 1px 3px 1px rgba(0, 0, 0, 0.15);\n",
              "      filter: drop-shadow(0px 1px 2px rgba(0, 0, 0, 0.3));\n",
              "      fill: #FFFFFF;\n",
              "    }\n",
              "  </style>\n",
              "\n",
              "      <script>\n",
              "        const buttonEl =\n",
              "          document.querySelector('#df-52428d64-ae4d-4684-94f9-83f91d36cefb button.colab-df-convert');\n",
              "        buttonEl.style.display =\n",
              "          google.colab.kernel.accessAllowed ? 'block' : 'none';\n",
              "\n",
              "        async function convertToInteractive(key) {\n",
              "          const element = document.querySelector('#df-52428d64-ae4d-4684-94f9-83f91d36cefb');\n",
              "          const dataTable =\n",
              "            await google.colab.kernel.invokeFunction('convertToInteractive',\n",
              "                                                     [key], {});\n",
              "          if (!dataTable) return;\n",
              "\n",
              "          const docLinkHtml = 'Like what you see? Visit the ' +\n",
              "            '<a target=\"_blank\" href=https://colab.research.google.com/notebooks/data_table.ipynb>data table notebook</a>'\n",
              "            + ' to learn more about interactive tables.';\n",
              "          element.innerHTML = '';\n",
              "          dataTable['output_type'] = 'display_data';\n",
              "          await google.colab.output.renderOutput(dataTable, element);\n",
              "          const docLink = document.createElement('div');\n",
              "          docLink.innerHTML = docLinkHtml;\n",
              "          element.appendChild(docLink);\n",
              "        }\n",
              "      </script>\n",
              "    </div>\n",
              "  </div>\n",
              "  "
            ]
          },
          "metadata": {},
          "execution_count": 2
        }
      ]
    },
    {
      "cell_type": "markdown",
      "source": [
        "2. Split the dataset into training and test sets:"
      ],
      "metadata": {
        "id": "bQqUlaOzCmto"
      }
    },
    {
      "cell_type": "code",
      "source": [
        "#  use data before \"2019-01-01\" as training set\n",
        "data_training = data[data[\"Date\"] < \"2019-01-01\"].copy()\n",
        "\n",
        "# use data after \"2019-01-01\" as testing set\n",
        "data_test = data[data[\"Date\"] >= \"2019-01-01\"].copy()"
      ],
      "metadata": {
        "id": "M__7FrnkCYSw"
      },
      "execution_count": 3,
      "outputs": []
    },
    {
      "cell_type": "code",
      "execution_count": 4,
      "outputs": [
        {
          "output_type": "execute_result",
          "data": {
            "text/plain": [
              "        Open       High    Low      Close   Volume\n",
              "0  19.650000  19.650000  19.17  19.410000  8911800\n",
              "1  19.450001  19.940001  19.41  19.650000  4247900\n",
              "2  19.790001  19.809999  19.34  19.420000  4721100\n",
              "3  19.250000  19.530001  19.09  19.309999  4810500\n",
              "4  19.360001  19.860001  19.16  19.730000  4957700"
            ],
            "text/html": [
              "\n",
              "  <div id=\"df-9136f307-5d7e-4aa4-9dc9-19fed393fb45\">\n",
              "    <div class=\"colab-df-container\">\n",
              "      <div>\n",
              "<style scoped>\n",
              "    .dataframe tbody tr th:only-of-type {\n",
              "        vertical-align: middle;\n",
              "    }\n",
              "\n",
              "    .dataframe tbody tr th {\n",
              "        vertical-align: top;\n",
              "    }\n",
              "\n",
              "    .dataframe thead th {\n",
              "        text-align: right;\n",
              "    }\n",
              "</style>\n",
              "<table border=\"1\" class=\"dataframe\">\n",
              "  <thead>\n",
              "    <tr style=\"text-align: right;\">\n",
              "      <th></th>\n",
              "      <th>Open</th>\n",
              "      <th>High</th>\n",
              "      <th>Low</th>\n",
              "      <th>Close</th>\n",
              "      <th>Volume</th>\n",
              "    </tr>\n",
              "  </thead>\n",
              "  <tbody>\n",
              "    <tr>\n",
              "      <th>0</th>\n",
              "      <td>19.650000</td>\n",
              "      <td>19.650000</td>\n",
              "      <td>19.17</td>\n",
              "      <td>19.410000</td>\n",
              "      <td>8911800</td>\n",
              "    </tr>\n",
              "    <tr>\n",
              "      <th>1</th>\n",
              "      <td>19.450001</td>\n",
              "      <td>19.940001</td>\n",
              "      <td>19.41</td>\n",
              "      <td>19.650000</td>\n",
              "      <td>4247900</td>\n",
              "    </tr>\n",
              "    <tr>\n",
              "      <th>2</th>\n",
              "      <td>19.790001</td>\n",
              "      <td>19.809999</td>\n",
              "      <td>19.34</td>\n",
              "      <td>19.420000</td>\n",
              "      <td>4721100</td>\n",
              "    </tr>\n",
              "    <tr>\n",
              "      <th>3</th>\n",
              "      <td>19.250000</td>\n",
              "      <td>19.530001</td>\n",
              "      <td>19.09</td>\n",
              "      <td>19.309999</td>\n",
              "      <td>4810500</td>\n",
              "    </tr>\n",
              "    <tr>\n",
              "      <th>4</th>\n",
              "      <td>19.360001</td>\n",
              "      <td>19.860001</td>\n",
              "      <td>19.16</td>\n",
              "      <td>19.730000</td>\n",
              "      <td>4957700</td>\n",
              "    </tr>\n",
              "  </tbody>\n",
              "</table>\n",
              "</div>\n",
              "      <button class=\"colab-df-convert\" onclick=\"convertToInteractive('df-9136f307-5d7e-4aa4-9dc9-19fed393fb45')\"\n",
              "              title=\"Convert this dataframe to an interactive table.\"\n",
              "              style=\"display:none;\">\n",
              "        \n",
              "  <svg xmlns=\"http://www.w3.org/2000/svg\" height=\"24px\"viewBox=\"0 0 24 24\"\n",
              "       width=\"24px\">\n",
              "    <path d=\"M0 0h24v24H0V0z\" fill=\"none\"/>\n",
              "    <path d=\"M18.56 5.44l.94 2.06.94-2.06 2.06-.94-2.06-.94-.94-2.06-.94 2.06-2.06.94zm-11 1L8.5 8.5l.94-2.06 2.06-.94-2.06-.94L8.5 2.5l-.94 2.06-2.06.94zm10 10l.94 2.06.94-2.06 2.06-.94-2.06-.94-.94-2.06-.94 2.06-2.06.94z\"/><path d=\"M17.41 7.96l-1.37-1.37c-.4-.4-.92-.59-1.43-.59-.52 0-1.04.2-1.43.59L10.3 9.45l-7.72 7.72c-.78.78-.78 2.05 0 2.83L4 21.41c.39.39.9.59 1.41.59.51 0 1.02-.2 1.41-.59l7.78-7.78 2.81-2.81c.8-.78.8-2.07 0-2.86zM5.41 20L4 18.59l7.72-7.72 1.47 1.35L5.41 20z\"/>\n",
              "  </svg>\n",
              "      </button>\n",
              "      \n",
              "  <style>\n",
              "    .colab-df-container {\n",
              "      display:flex;\n",
              "      flex-wrap:wrap;\n",
              "      gap: 12px;\n",
              "    }\n",
              "\n",
              "    .colab-df-convert {\n",
              "      background-color: #E8F0FE;\n",
              "      border: none;\n",
              "      border-radius: 50%;\n",
              "      cursor: pointer;\n",
              "      display: none;\n",
              "      fill: #1967D2;\n",
              "      height: 32px;\n",
              "      padding: 0 0 0 0;\n",
              "      width: 32px;\n",
              "    }\n",
              "\n",
              "    .colab-df-convert:hover {\n",
              "      background-color: #E2EBFA;\n",
              "      box-shadow: 0px 1px 2px rgba(60, 64, 67, 0.3), 0px 1px 3px 1px rgba(60, 64, 67, 0.15);\n",
              "      fill: #174EA6;\n",
              "    }\n",
              "\n",
              "    [theme=dark] .colab-df-convert {\n",
              "      background-color: #3B4455;\n",
              "      fill: #D2E3FC;\n",
              "    }\n",
              "\n",
              "    [theme=dark] .colab-df-convert:hover {\n",
              "      background-color: #434B5C;\n",
              "      box-shadow: 0px 1px 3px 1px rgba(0, 0, 0, 0.15);\n",
              "      filter: drop-shadow(0px 1px 2px rgba(0, 0, 0, 0.3));\n",
              "      fill: #FFFFFF;\n",
              "    }\n",
              "  </style>\n",
              "\n",
              "      <script>\n",
              "        const buttonEl =\n",
              "          document.querySelector('#df-9136f307-5d7e-4aa4-9dc9-19fed393fb45 button.colab-df-convert');\n",
              "        buttonEl.style.display =\n",
              "          google.colab.kernel.accessAllowed ? 'block' : 'none';\n",
              "\n",
              "        async function convertToInteractive(key) {\n",
              "          const element = document.querySelector('#df-9136f307-5d7e-4aa4-9dc9-19fed393fb45');\n",
              "          const dataTable =\n",
              "            await google.colab.kernel.invokeFunction('convertToInteractive',\n",
              "                                                     [key], {});\n",
              "          if (!dataTable) return;\n",
              "\n",
              "          const docLinkHtml = 'Like what you see? Visit the ' +\n",
              "            '<a target=\"_blank\" href=https://colab.research.google.com/notebooks/data_table.ipynb>data table notebook</a>'\n",
              "            + ' to learn more about interactive tables.';\n",
              "          element.innerHTML = '';\n",
              "          dataTable['output_type'] = 'display_data';\n",
              "          await google.colab.output.renderOutput(dataTable, element);\n",
              "          const docLink = document.createElement('div');\n",
              "          docLink.innerHTML = docLinkHtml;\n",
              "          element.appendChild(docLink);\n",
              "        }\n",
              "      </script>\n",
              "    </div>\n",
              "  </div>\n",
              "  "
            ]
          },
          "metadata": {},
          "execution_count": 4
        }
      ],
      "source": [
        "# drop the un-necessary columns after splitting\n",
        "training_data = data_training.drop([\"Date\", \"Adj Close\"], axis=1)\n",
        "test_data = data_test.drop([\"Date\", \"Adj Close\"], axis=1)\n",
        "\n",
        "# display the changed dataframe\n",
        "training_data.head()"
      ],
      "metadata": {
        "id": "ohlawLgC_lme",
        "outputId": "46542daa-065e-4b7d-f93c-2eccdff8f799",
        "colab": {
          "base_uri": "https://localhost:8080/",
          "height": 206
        }
      }
    },
    {
      "cell_type": "markdown",
      "source": [
        "3. Rescale the training data in a uniform range"
      ],
      "metadata": {
        "collapsed": false,
        "id": "xu91cBeF_lme"
      }
    },
    {
      "cell_type": "code",
      "execution_count": 5,
      "outputs": [
        {
          "output_type": "execute_result",
          "data": {
            "text/plain": [
              "Index(['Open', 'High', 'Low', 'Close', 'Volume'], dtype='object')"
            ]
          },
          "metadata": {},
          "execution_count": 5
        }
      ],
      "source": [
        "# store the column names before rescaling\n",
        "train_cols = training_data.columns\n",
        "test_cols = test_data.columns\n",
        "\n",
        "train_cols"
      ],
      "metadata": {
        "id": "VqmT9BiH_lme",
        "outputId": "9e686b07-8b13-4de3-d2c9-a85b435d7171",
        "colab": {
          "base_uri": "https://localhost:8080/"
        }
      }
    },
    {
      "cell_type": "code",
      "execution_count": 6,
      "outputs": [],
      "source": [
        "from sklearn.preprocessing import MinMaxScaler, StandardScaler\n",
        "\n",
        "# initialize the scaler\n",
        "scaler = MinMaxScaler()\n",
        "\n",
        "# perform the rescaling\n",
        "training_data = scaler.fit_transform(training_data)\n",
        "# training_data = pd.DataFrame(training_data, columns=train_cols)\n",
        "# training_data.head()"
      ],
      "metadata": {
        "id": "dDzuT1oQ_lmf"
      }
    },
    {
      "cell_type": "markdown",
      "source": [
        "4. Prepare data from traning and testing"
      ],
      "metadata": {
        "collapsed": false,
        "id": "vdoqwrCJ_lmf"
      }
    },
    {
      "cell_type": "code",
      "execution_count": 7,
      "outputs": [
        {
          "output_type": "execute_result",
          "data": {
            "text/plain": [
              "868"
            ]
          },
          "metadata": {},
          "execution_count": 7
        }
      ],
      "source": [
        "# check the shape of training_data\n",
        "training_data.shape[0]"
      ],
      "metadata": {
        "id": "V_CFRRg6_lmg",
        "outputId": "747b970b-ff9b-4bdb-c428-b543b3eb3fc8",
        "colab": {
          "base_uri": "https://localhost:8080/"
        }
      }
    },
    {
      "cell_type": "code",
      "execution_count": 8,
      "outputs": [],
      "source": [
        "# split your data into X_train and y_train\n",
        "X_train = []\n",
        "y_train = []\n",
        "\n",
        "# Looping through the range of 60 to the number of rows in training_data\n",
        "for i in range(60, training_data.shape[0]):\n",
        "\n",
        "    # Appending the values of training_data from i-60 to i to X_train\n",
        "    X_train.append(training_data[i-60:i])\n",
        "\n",
        "    # Appending the value of training_data at index i, column 0 to y_train\n",
        "    y_train.append(training_data[i, 0])"
      ],
      "metadata": {
        "id": "Q5PO11rr_lmg"
      }
    },
    {
      "cell_type": "code",
      "execution_count": 9,
      "outputs": [
        {
          "output_type": "stream",
          "name": "stdout",
          "text": [
            "X_train: (808, 60, 5)\n",
            "y_train: (808,)\n"
          ]
        }
      ],
      "source": [
        "# convert X_train and y_train into NumPy arrays\n",
        "X_train, y_train = np.array(X_train), np.array(y_train)\n",
        "\n",
        "# display the dimension of X_train, y_train\n",
        "print(\"X_train:\", X_train.shape)\n",
        "print(\"y_train:\", y_train.shape)"
      ],
      "metadata": {
        "id": "AFPM1T9U_lmg",
        "outputId": "f0398f33-6248-44ba-fc89-224c9d1628c6",
        "colab": {
          "base_uri": "https://localhost:8080/"
        }
      }
    },
    {
      "cell_type": "markdown",
      "source": [
        "--> As shown above, the prepared training set contains 808 observations with 60 days of data for the five features."
      ],
      "metadata": {
        "collapsed": false,
        "id": "Zgo9y0d1_lmh"
      }
    },
    {
      "cell_type": "markdown",
      "source": [
        "##### Transform the data into a 2D matrix with the shape of the sample (the number of samples and the number of features in each sample).<br>\n",
        "##### Stack the features for all 60 days on top of each other to get an output size of (808, 300)"
      ],
      "metadata": {
        "collapsed": false,
        "id": "bdDSVxcw_lmh"
      }
    },
    {
      "cell_type": "code",
      "execution_count": 10,
      "outputs": [
        {
          "output_type": "execute_result",
          "data": {
            "text/plain": [
              "(808, 300)"
            ]
          },
          "metadata": {},
          "execution_count": 10
        }
      ],
      "source": [
        "# save the shape of X_train\n",
        "X_old_shape = X_train.shape\n",
        "\n",
        "# reshaping X_train to have X_old_shape[0] rows and X_old_shape[1]*X_old_shape[2] columns\n",
        "X_train = X_train.reshape(X_old_shape[0], X_old_shape[1]*X_old_shape[2])\n",
        "\n",
        "# display the reshaped X_train\n",
        "X_train.shape"
      ],
      "metadata": {
        "id": "74TcGrdx_lmh",
        "outputId": "e85852b8-061a-4394-d10a-1bcadc584803",
        "colab": {
          "base_uri": "https://localhost:8080/"
        }
      }
    },
    {
      "cell_type": "markdown",
      "source": [
        "5. Build an ANN model."
      ],
      "metadata": {
        "collapsed": false,
        "id": "g6uo34Sc_lmh"
      }
    },
    {
      "cell_type": "code",
      "execution_count": 11,
      "outputs": [],
      "source": [
        "# import libraries\n",
        "import tensorflow as tf\n",
        "from tensorflow.keras import Sequential\n",
        "from tensorflow.keras.layers import Input, Dense, Dropout"
      ],
      "metadata": {
        "id": "iDn9z_2G_lmi"
      }
    },
    {
      "cell_type": "code",
      "execution_count": 12,
      "outputs": [],
      "source": [
        "# initialize the ANN model\n",
        "regressor_ann = Sequential()"
      ],
      "metadata": {
        "id": "K-Nifj-K_lmi"
      }
    },
    {
      "cell_type": "code",
      "execution_count": 13,
      "outputs": [],
      "source": [
        "# add an input layer with input_shape as 300\n",
        "regressor_ann.add(Input(shape = (X_train.shape[1])))\n",
        "\n",
        "# add dense layer with 512 units as output\n",
        "regressor_ann.add(Dense(512, activation=\"relu\"))\n",
        "# add dropout layer to remove 20% of the units during training to prevent overfitting\n",
        "regressor_ann.add(Dropout(0.2))\n",
        "\n",
        "# add another dense layer and Dropout layer\n",
        "regressor_ann.add(Dense(128, activation=\"relu\"))\n",
        "# add another Dropout layer\n",
        "regressor_ann.add(Dropout(0.3))\n",
        "\n",
        "# add another dense and dropout layer\n",
        "regressor_ann.add(Dense(64, activation=\"relu\"))\n",
        "regressor_ann.add(Dropout(0.4))\n",
        "\n",
        "# add another dense and dropout layer\n",
        "regressor_ann.add(Dense(16, activation=\"relu\"))\n",
        "regressor_ann.add(Dropout(0.5))\n",
        "\n",
        "# add final dense layer as output\n",
        "regressor_ann.add(Dense(1))"
      ],
      "metadata": {
        "id": "3Q2YRfLv_lmi"
      }
    },
    {
      "cell_type": "code",
      "execution_count": 14,
      "outputs": [
        {
          "output_type": "stream",
          "name": "stdout",
          "text": [
            "Model: \"sequential\"\n",
            "_________________________________________________________________\n",
            " Layer (type)                Output Shape              Param #   \n",
            "=================================================================\n",
            " dense (Dense)               (None, 512)               154112    \n",
            "                                                                 \n",
            " dropout (Dropout)           (None, 512)               0         \n",
            "                                                                 \n",
            " dense_1 (Dense)             (None, 128)               65664     \n",
            "                                                                 \n",
            " dropout_1 (Dropout)         (None, 128)               0         \n",
            "                                                                 \n",
            " dense_2 (Dense)             (None, 64)                8256      \n",
            "                                                                 \n",
            " dropout_2 (Dropout)         (None, 64)                0         \n",
            "                                                                 \n",
            " dense_3 (Dense)             (None, 16)                1040      \n",
            "                                                                 \n",
            " dropout_3 (Dropout)         (None, 16)                0         \n",
            "                                                                 \n",
            " dense_4 (Dense)             (None, 1)                 17        \n",
            "                                                                 \n",
            "=================================================================\n",
            "Total params: 229,089\n",
            "Trainable params: 229,089\n",
            "Non-trainable params: 0\n",
            "_________________________________________________________________\n"
          ]
        }
      ],
      "source": [
        "# display of the model architecture\n",
        "regressor_ann.summary()"
      ],
      "metadata": {
        "id": "Vv1KvUzJ_lmi",
        "outputId": "e41761bd-5aaa-48d6-bca0-9d14f25da5eb",
        "colab": {
          "base_uri": "https://localhost:8080/"
        }
      }
    },
    {
      "cell_type": "markdown",
      "source": [
        "6. Compile the model with optimizer, loss function and accuracy metrics."
      ],
      "metadata": {
        "collapsed": false,
        "id": "zlbmk72o_lmj"
      }
    },
    {
      "cell_type": "code",
      "execution_count": 15,
      "outputs": [],
      "source": [
        "# compile the model for training\n",
        "regressor_ann.compile(\n",
        "    optimizer=\"adam\",\n",
        "    loss=\"mean_squared_error\",\n",
        "    metrics=\"mse\"\n",
        "                    )"
      ],
      "metadata": {
        "id": "j7cbOPg4_lmj"
      }
    },
    {
      "cell_type": "markdown",
      "source": [
        "7. Train the ANN model"
      ],
      "metadata": {
        "collapsed": false,
        "id": "zhVukk4-_lmj"
      }
    },
    {
      "cell_type": "code",
      "execution_count": 16,
      "outputs": [
        {
          "output_type": "stream",
          "name": "stdout",
          "text": [
            "Epoch 1/20\n",
            "26/26 [==============================] - 6s 4ms/step - loss: 0.1787 - mse: 0.1787\n",
            "Epoch 2/20\n",
            "26/26 [==============================] - 0s 3ms/step - loss: 0.1074 - mse: 0.1074\n",
            "Epoch 3/20\n",
            "26/26 [==============================] - 0s 3ms/step - loss: 0.0804 - mse: 0.0804\n",
            "Epoch 4/20\n",
            "26/26 [==============================] - 0s 4ms/step - loss: 0.0725 - mse: 0.0725\n",
            "Epoch 5/20\n",
            "26/26 [==============================] - 0s 3ms/step - loss: 0.0674 - mse: 0.0674\n",
            "Epoch 6/20\n",
            "26/26 [==============================] - 0s 3ms/step - loss: 0.0715 - mse: 0.0715\n",
            "Epoch 7/20\n",
            "26/26 [==============================] - 0s 4ms/step - loss: 0.0544 - mse: 0.0544\n",
            "Epoch 8/20\n",
            "26/26 [==============================] - 0s 3ms/step - loss: 0.0497 - mse: 0.0497\n",
            "Epoch 9/20\n",
            "26/26 [==============================] - 0s 3ms/step - loss: 0.0512 - mse: 0.0512\n",
            "Epoch 10/20\n",
            "26/26 [==============================] - 0s 5ms/step - loss: 0.0541 - mse: 0.0541\n",
            "Epoch 11/20\n",
            "26/26 [==============================] - 0s 5ms/step - loss: 0.0445 - mse: 0.0445\n",
            "Epoch 12/20\n",
            "26/26 [==============================] - 0s 5ms/step - loss: 0.0459 - mse: 0.0459\n",
            "Epoch 13/20\n",
            "26/26 [==============================] - 0s 5ms/step - loss: 0.0506 - mse: 0.0506\n",
            "Epoch 14/20\n",
            "26/26 [==============================] - 0s 5ms/step - loss: 0.0472 - mse: 0.0472\n",
            "Epoch 15/20\n",
            "26/26 [==============================] - 0s 5ms/step - loss: 0.0395 - mse: 0.0395\n",
            "Epoch 16/20\n",
            "26/26 [==============================] - 0s 5ms/step - loss: 0.0427 - mse: 0.0427\n",
            "Epoch 17/20\n",
            "26/26 [==============================] - 0s 5ms/step - loss: 0.0397 - mse: 0.0397\n",
            "Epoch 18/20\n",
            "26/26 [==============================] - 0s 5ms/step - loss: 0.0439 - mse: 0.0439\n",
            "Epoch 19/20\n",
            "26/26 [==============================] - 0s 5ms/step - loss: 0.0376 - mse: 0.0376\n",
            "Epoch 20/20\n",
            "26/26 [==============================] - 0s 5ms/step - loss: 0.0371 - mse: 0.0371\n"
          ]
        },
        {
          "output_type": "execute_result",
          "data": {
            "text/plain": [
              "<keras.callbacks.History at 0x7f50d0047460>"
            ]
          },
          "metadata": {},
          "execution_count": 16
        }
      ],
      "source": [
        "# fit the ANN model to the training data\n",
        "regressor_ann.fit(X_train,\n",
        "                  y_train,\n",
        "                  epochs=20,\n",
        "                  batch_size=32\n",
        "                  )"
      ],
      "metadata": {
        "id": "x9GuwlDw_lmj",
        "outputId": "8963db1c-9f8b-42a3-91d8-450cb03ffd75",
        "colab": {
          "base_uri": "https://localhost:8080/"
        }
      }
    },
    {
      "cell_type": "markdown",
      "source": [
        "# <center><b>Recurrent Neural Networks(RNN)</b></center>"
      ],
      "metadata": {
        "collapsed": false,
        "id": "CRlybxrf_lmk"
      }
    },
    {
      "cell_type": "markdown",
      "source": [
        "**Building an RNN model with an LSTM layer for Nvidia Stock Prediction:**"
      ],
      "metadata": {
        "id": "zbEGY61kHCek"
      }
    },
    {
      "cell_type": "code",
      "source": [
        "# Importing the necessary modules\n",
        "from tensorflow.keras.models import Sequential\n",
        "from tensorflow.keras.layers import LSTM, Dropout, Dense"
      ],
      "metadata": {
        "id": "N5WudMrRIuGt"
      },
      "execution_count": 17,
      "outputs": []
    },
    {
      "cell_type": "code",
      "execution_count": 18,
      "outputs": [
        {
          "output_type": "stream",
          "name": "stderr",
          "text": [
            "WARNING:tensorflow:Layer lstm will not use cuDNN kernels since it doesn't meet the criteria. It will use a generic GPU kernel as fallback when running on GPU.\n",
            "WARNING:tensorflow:Layer lstm_1 will not use cuDNN kernels since it doesn't meet the criteria. It will use a generic GPU kernel as fallback when running on GPU.\n",
            "WARNING:tensorflow:Layer lstm_2 will not use cuDNN kernels since it doesn't meet the criteria. It will use a generic GPU kernel as fallback when running on GPU.\n",
            "WARNING:tensorflow:Layer lstm_3 will not use cuDNN kernels since it doesn't meet the criteria. It will use a generic GPU kernel as fallback when running on GPU.\n"
          ]
        }
      ],
      "source": [
        "# Creating a Sequential model\n",
        "regressor = Sequential()\n",
        "\n",
        "# Adding a LSTM layer with 50 units, 'relu' activation function,\n",
        "# return_sequences set to True and an input shape of (X_train.shape[1], 5)\n",
        "# This layer will take in the input data and process it using LSTM units\n",
        "regressor.add(LSTM(units=50, activation='relu', return_sequences=True,\n",
        "                   input_shape=(X_train.shape[1], 5)))\n",
        "\n",
        "# Adding a Dropout layer with a rate of 0.2\n",
        "# This layer will randomly drop out 20% of the units in the previous layer\n",
        "# to prevent overfitting\n",
        "regressor.add(Dropout(0.2))\n",
        "\n",
        "# Adding another LSTM layer with 60 units and 'relu' activation function\n",
        "# This layer will take in the output from the previous LSTM layer and process it further\n",
        "regressor.add(LSTM(units=60, activation='relu', return_sequences=True))\n",
        "\n",
        "# Adding another Dropout layer with a rate of 0.3\n",
        "# This layer will randomly drop out 30% of the units in the previous layer\n",
        "# to prevent overfitting\n",
        "regressor.add(Dropout(0.3))\n",
        "\n",
        "# Adding another LSTM layer with 80 units and 'relu' activation function\n",
        "# This layer will take in the output from the previous LSTM layer and process it further\n",
        "regressor.add(LSTM(units=80, activation='relu', return_sequences=True))\n",
        "\n",
        "# Adding another Dropout layer with a rate of 0.4\n",
        "# This layer will randomly drop out 40% of the units in the previous layer\n",
        "# to prevent overfitting\n",
        "regressor.add(Dropout(0.4))\n",
        "\n",
        "# Adding another LSTM layer with 120 units and 'relu' activation function\n",
        "# This layer will take in the output from the previous LSTM layer and process it further\n",
        "regressor.add(LSTM(units=120, activation='relu'))\n",
        "\n",
        "# Adding another Dropout layer with a rate of 0.5\n",
        "# This layer will randomly drop out 50% of the units in the previous layer\n",
        "# to prevent overfitting\n",
        "regressor.add(Dropout(0.5))\n",
        "\n",
        "# Adding a Dense layer with 1 unit\n",
        "# This is the output layer that will produce the final prediction\n",
        "regressor.add(Dense(units=1))"
      ],
      "metadata": {
        "id": "dP5PSBqF_lmk",
        "colab": {
          "base_uri": "https://localhost:8080/"
        },
        "outputId": "56490490-a5a4-404b-94a2-c66d68b736e1"
      }
    },
    {
      "cell_type": "code",
      "source": [
        "# view the summary of the model architecture\n",
        "regressor.summary()"
      ],
      "metadata": {
        "colab": {
          "base_uri": "https://localhost:8080/"
        },
        "id": "ZU27JferJJpt",
        "outputId": "427d72f6-0111-4fd0-c3bf-2945a4213eef"
      },
      "execution_count": 19,
      "outputs": [
        {
          "output_type": "stream",
          "name": "stdout",
          "text": [
            "Model: \"sequential_1\"\n",
            "_________________________________________________________________\n",
            " Layer (type)                Output Shape              Param #   \n",
            "=================================================================\n",
            " lstm (LSTM)                 (None, 300, 50)           11200     \n",
            "                                                                 \n",
            " dropout_4 (Dropout)         (None, 300, 50)           0         \n",
            "                                                                 \n",
            " lstm_1 (LSTM)               (None, 300, 60)           26640     \n",
            "                                                                 \n",
            " dropout_5 (Dropout)         (None, 300, 60)           0         \n",
            "                                                                 \n",
            " lstm_2 (LSTM)               (None, 300, 80)           45120     \n",
            "                                                                 \n",
            " dropout_6 (Dropout)         (None, 300, 80)           0         \n",
            "                                                                 \n",
            " lstm_3 (LSTM)               (None, 120)               96480     \n",
            "                                                                 \n",
            " dropout_7 (Dropout)         (None, 120)               0         \n",
            "                                                                 \n",
            " dense_5 (Dense)             (None, 1)                 121       \n",
            "                                                                 \n",
            "=================================================================\n",
            "Total params: 179,561\n",
            "Trainable params: 179,561\n",
            "Non-trainable params: 0\n",
            "_________________________________________________________________\n"
          ]
        }
      ]
    },
    {
      "cell_type": "markdown",
      "source": [
        "------"
      ],
      "metadata": {
        "id": "SkOpJ0wOKMe7"
      }
    },
    {
      "cell_type": "markdown",
      "source": [
        "------"
      ],
      "metadata": {
        "id": "2cTq6oBWKLGD"
      }
    },
    {
      "cell_type": "markdown",
      "source": [
        "### Build an RNN model with Multiple LSTM Layers to Predict Power Consumption:"
      ],
      "metadata": {
        "id": "uojOuMRHKoY6"
      }
    },
    {
      "cell_type": "markdown",
      "source": [
        "**Import libraries**"
      ],
      "metadata": {
        "id": "n9ao6at5LcIr"
      }
    },
    {
      "cell_type": "code",
      "source": [
        "import numpy as np\n",
        "import pandas as pd\n",
        "import datetime\n",
        "\n",
        "# library for performing rescaling\n",
        "from sklearn.preprocessing import MinMaxScaler"
      ],
      "metadata": {
        "id": "iA4WTyBHKL3Z"
      },
      "execution_count": 1,
      "outputs": []
    },
    {
      "cell_type": "markdown",
      "source": [
        "**Load the Dataset**"
      ],
      "metadata": {
        "id": "KgpJ9n-aLvtI"
      }
    },
    {
      "cell_type": "code",
      "source": [
        "data = pd.read_csv(\"https://raw.githubusercontent.com/PacktWorkshops/The-TensorFlow-Workshop/master/Chapter09/Datasets/household_power_consumption.csv\")\n",
        "data.head()"
      ],
      "metadata": {
        "colab": {
          "base_uri": "https://localhost:8080/",
          "height": 206
        },
        "id": "O10TlpX9Lr7Q",
        "outputId": "34c9585a-d7ed-4ad0-9e2e-2dfda3c633c7"
      },
      "execution_count": 2,
      "outputs": [
        {
          "output_type": "execute_result",
          "data": {
            "text/plain": [
              "       Date     Time Global_active_power Global_reactive_power Voltage  \\\n",
              "0  1/1/2007  0:00:00                2.58                 0.136  241.97   \n",
              "1  1/1/2007  0:01:00               2.552                   0.1  241.75   \n",
              "2  1/1/2007  0:02:00                2.55                   0.1  241.64   \n",
              "3  1/1/2007  0:03:00                2.55                   0.1  241.71   \n",
              "4  1/1/2007  0:04:00               2.554                   0.1  241.98   \n",
              "\n",
              "  Global_intensity Sub_metering_1 Sub_metering_2  Sub_metering_3  \n",
              "0             10.6              0              0             0.0  \n",
              "1             10.4              0              0             0.0  \n",
              "2             10.4              0              0             0.0  \n",
              "3             10.4              0              0             0.0  \n",
              "4             10.4              0              0             0.0  "
            ],
            "text/html": [
              "\n",
              "  <div id=\"df-2c1c3b92-3145-4603-90de-9dd4da218e80\">\n",
              "    <div class=\"colab-df-container\">\n",
              "      <div>\n",
              "<style scoped>\n",
              "    .dataframe tbody tr th:only-of-type {\n",
              "        vertical-align: middle;\n",
              "    }\n",
              "\n",
              "    .dataframe tbody tr th {\n",
              "        vertical-align: top;\n",
              "    }\n",
              "\n",
              "    .dataframe thead th {\n",
              "        text-align: right;\n",
              "    }\n",
              "</style>\n",
              "<table border=\"1\" class=\"dataframe\">\n",
              "  <thead>\n",
              "    <tr style=\"text-align: right;\">\n",
              "      <th></th>\n",
              "      <th>Date</th>\n",
              "      <th>Time</th>\n",
              "      <th>Global_active_power</th>\n",
              "      <th>Global_reactive_power</th>\n",
              "      <th>Voltage</th>\n",
              "      <th>Global_intensity</th>\n",
              "      <th>Sub_metering_1</th>\n",
              "      <th>Sub_metering_2</th>\n",
              "      <th>Sub_metering_3</th>\n",
              "    </tr>\n",
              "  </thead>\n",
              "  <tbody>\n",
              "    <tr>\n",
              "      <th>0</th>\n",
              "      <td>1/1/2007</td>\n",
              "      <td>0:00:00</td>\n",
              "      <td>2.58</td>\n",
              "      <td>0.136</td>\n",
              "      <td>241.97</td>\n",
              "      <td>10.6</td>\n",
              "      <td>0</td>\n",
              "      <td>0</td>\n",
              "      <td>0.0</td>\n",
              "    </tr>\n",
              "    <tr>\n",
              "      <th>1</th>\n",
              "      <td>1/1/2007</td>\n",
              "      <td>0:01:00</td>\n",
              "      <td>2.552</td>\n",
              "      <td>0.1</td>\n",
              "      <td>241.75</td>\n",
              "      <td>10.4</td>\n",
              "      <td>0</td>\n",
              "      <td>0</td>\n",
              "      <td>0.0</td>\n",
              "    </tr>\n",
              "    <tr>\n",
              "      <th>2</th>\n",
              "      <td>1/1/2007</td>\n",
              "      <td>0:02:00</td>\n",
              "      <td>2.55</td>\n",
              "      <td>0.1</td>\n",
              "      <td>241.64</td>\n",
              "      <td>10.4</td>\n",
              "      <td>0</td>\n",
              "      <td>0</td>\n",
              "      <td>0.0</td>\n",
              "    </tr>\n",
              "    <tr>\n",
              "      <th>3</th>\n",
              "      <td>1/1/2007</td>\n",
              "      <td>0:03:00</td>\n",
              "      <td>2.55</td>\n",
              "      <td>0.1</td>\n",
              "      <td>241.71</td>\n",
              "      <td>10.4</td>\n",
              "      <td>0</td>\n",
              "      <td>0</td>\n",
              "      <td>0.0</td>\n",
              "    </tr>\n",
              "    <tr>\n",
              "      <th>4</th>\n",
              "      <td>1/1/2007</td>\n",
              "      <td>0:04:00</td>\n",
              "      <td>2.554</td>\n",
              "      <td>0.1</td>\n",
              "      <td>241.98</td>\n",
              "      <td>10.4</td>\n",
              "      <td>0</td>\n",
              "      <td>0</td>\n",
              "      <td>0.0</td>\n",
              "    </tr>\n",
              "  </tbody>\n",
              "</table>\n",
              "</div>\n",
              "      <button class=\"colab-df-convert\" onclick=\"convertToInteractive('df-2c1c3b92-3145-4603-90de-9dd4da218e80')\"\n",
              "              title=\"Convert this dataframe to an interactive table.\"\n",
              "              style=\"display:none;\">\n",
              "        \n",
              "  <svg xmlns=\"http://www.w3.org/2000/svg\" height=\"24px\"viewBox=\"0 0 24 24\"\n",
              "       width=\"24px\">\n",
              "    <path d=\"M0 0h24v24H0V0z\" fill=\"none\"/>\n",
              "    <path d=\"M18.56 5.44l.94 2.06.94-2.06 2.06-.94-2.06-.94-.94-2.06-.94 2.06-2.06.94zm-11 1L8.5 8.5l.94-2.06 2.06-.94-2.06-.94L8.5 2.5l-.94 2.06-2.06.94zm10 10l.94 2.06.94-2.06 2.06-.94-2.06-.94-.94-2.06-.94 2.06-2.06.94z\"/><path d=\"M17.41 7.96l-1.37-1.37c-.4-.4-.92-.59-1.43-.59-.52 0-1.04.2-1.43.59L10.3 9.45l-7.72 7.72c-.78.78-.78 2.05 0 2.83L4 21.41c.39.39.9.59 1.41.59.51 0 1.02-.2 1.41-.59l7.78-7.78 2.81-2.81c.8-.78.8-2.07 0-2.86zM5.41 20L4 18.59l7.72-7.72 1.47 1.35L5.41 20z\"/>\n",
              "  </svg>\n",
              "      </button>\n",
              "      \n",
              "  <style>\n",
              "    .colab-df-container {\n",
              "      display:flex;\n",
              "      flex-wrap:wrap;\n",
              "      gap: 12px;\n",
              "    }\n",
              "\n",
              "    .colab-df-convert {\n",
              "      background-color: #E8F0FE;\n",
              "      border: none;\n",
              "      border-radius: 50%;\n",
              "      cursor: pointer;\n",
              "      display: none;\n",
              "      fill: #1967D2;\n",
              "      height: 32px;\n",
              "      padding: 0 0 0 0;\n",
              "      width: 32px;\n",
              "    }\n",
              "\n",
              "    .colab-df-convert:hover {\n",
              "      background-color: #E2EBFA;\n",
              "      box-shadow: 0px 1px 2px rgba(60, 64, 67, 0.3), 0px 1px 3px 1px rgba(60, 64, 67, 0.15);\n",
              "      fill: #174EA6;\n",
              "    }\n",
              "\n",
              "    [theme=dark] .colab-df-convert {\n",
              "      background-color: #3B4455;\n",
              "      fill: #D2E3FC;\n",
              "    }\n",
              "\n",
              "    [theme=dark] .colab-df-convert:hover {\n",
              "      background-color: #434B5C;\n",
              "      box-shadow: 0px 1px 3px 1px rgba(0, 0, 0, 0.15);\n",
              "      filter: drop-shadow(0px 1px 2px rgba(0, 0, 0, 0.3));\n",
              "      fill: #FFFFFF;\n",
              "    }\n",
              "  </style>\n",
              "\n",
              "      <script>\n",
              "        const buttonEl =\n",
              "          document.querySelector('#df-2c1c3b92-3145-4603-90de-9dd4da218e80 button.colab-df-convert');\n",
              "        buttonEl.style.display =\n",
              "          google.colab.kernel.accessAllowed ? 'block' : 'none';\n",
              "\n",
              "        async function convertToInteractive(key) {\n",
              "          const element = document.querySelector('#df-2c1c3b92-3145-4603-90de-9dd4da218e80');\n",
              "          const dataTable =\n",
              "            await google.colab.kernel.invokeFunction('convertToInteractive',\n",
              "                                                     [key], {});\n",
              "          if (!dataTable) return;\n",
              "\n",
              "          const docLinkHtml = 'Like what you see? Visit the ' +\n",
              "            '<a target=\"_blank\" href=https://colab.research.google.com/notebooks/data_table.ipynb>data table notebook</a>'\n",
              "            + ' to learn more about interactive tables.';\n",
              "          element.innerHTML = '';\n",
              "          dataTable['output_type'] = 'display_data';\n",
              "          await google.colab.output.renderOutput(dataTable, element);\n",
              "          const docLink = document.createElement('div');\n",
              "          docLink.innerHTML = docLinkHtml;\n",
              "          element.appendChild(docLink);\n",
              "        }\n",
              "      </script>\n",
              "    </div>\n",
              "  </div>\n",
              "  "
            ]
          },
          "metadata": {},
          "execution_count": 2
        }
      ]
    },
    {
      "cell_type": "markdown",
      "source": [
        "**Create a new column Datetime by combining Date & Time columns**"
      ],
      "metadata": {
        "id": "nykSuz9BMikR"
      }
    },
    {
      "cell_type": "code",
      "source": [
        "# convert the column into datetime object with specified format\n",
        "data[\"Date\"] = pd.to_datetime(data[\"Date\"], format=\"%d/%m/%Y\")\n",
        "\n",
        "# create new \"Datetime\" column by combing \"Date\" and \"Time\" columns\n",
        "data[\"Datetime\"] = data[\"Date\"].dt.strftime(\"%Y-%m-%d\") + \" \" + data[\"Time\"]\n",
        "\n",
        "# convert the \"Datetime\" column to datetime object\n",
        "data[\"Datetime\"] = pd.to_datetime(data[\"Datetime\"])\n",
        "\n",
        "data.head()"
      ],
      "metadata": {
        "colab": {
          "base_uri": "https://localhost:8080/",
          "height": 206
        },
        "id": "VOL5y733L_XB",
        "outputId": "9fc585ff-c391-4a60-e46a-e4dd4a70ecdc"
      },
      "execution_count": 3,
      "outputs": [
        {
          "output_type": "execute_result",
          "data": {
            "text/plain": [
              "        Date     Time Global_active_power Global_reactive_power Voltage  \\\n",
              "0 2007-01-01  0:00:00                2.58                 0.136  241.97   \n",
              "1 2007-01-01  0:01:00               2.552                   0.1  241.75   \n",
              "2 2007-01-01  0:02:00                2.55                   0.1  241.64   \n",
              "3 2007-01-01  0:03:00                2.55                   0.1  241.71   \n",
              "4 2007-01-01  0:04:00               2.554                   0.1  241.98   \n",
              "\n",
              "  Global_intensity Sub_metering_1 Sub_metering_2  Sub_metering_3  \\\n",
              "0             10.6              0              0             0.0   \n",
              "1             10.4              0              0             0.0   \n",
              "2             10.4              0              0             0.0   \n",
              "3             10.4              0              0             0.0   \n",
              "4             10.4              0              0             0.0   \n",
              "\n",
              "             Datetime  \n",
              "0 2007-01-01 00:00:00  \n",
              "1 2007-01-01 00:01:00  \n",
              "2 2007-01-01 00:02:00  \n",
              "3 2007-01-01 00:03:00  \n",
              "4 2007-01-01 00:04:00  "
            ],
            "text/html": [
              "\n",
              "  <div id=\"df-688de055-0fc6-4367-a71d-eb59e18624cd\">\n",
              "    <div class=\"colab-df-container\">\n",
              "      <div>\n",
              "<style scoped>\n",
              "    .dataframe tbody tr th:only-of-type {\n",
              "        vertical-align: middle;\n",
              "    }\n",
              "\n",
              "    .dataframe tbody tr th {\n",
              "        vertical-align: top;\n",
              "    }\n",
              "\n",
              "    .dataframe thead th {\n",
              "        text-align: right;\n",
              "    }\n",
              "</style>\n",
              "<table border=\"1\" class=\"dataframe\">\n",
              "  <thead>\n",
              "    <tr style=\"text-align: right;\">\n",
              "      <th></th>\n",
              "      <th>Date</th>\n",
              "      <th>Time</th>\n",
              "      <th>Global_active_power</th>\n",
              "      <th>Global_reactive_power</th>\n",
              "      <th>Voltage</th>\n",
              "      <th>Global_intensity</th>\n",
              "      <th>Sub_metering_1</th>\n",
              "      <th>Sub_metering_2</th>\n",
              "      <th>Sub_metering_3</th>\n",
              "      <th>Datetime</th>\n",
              "    </tr>\n",
              "  </thead>\n",
              "  <tbody>\n",
              "    <tr>\n",
              "      <th>0</th>\n",
              "      <td>2007-01-01</td>\n",
              "      <td>0:00:00</td>\n",
              "      <td>2.58</td>\n",
              "      <td>0.136</td>\n",
              "      <td>241.97</td>\n",
              "      <td>10.6</td>\n",
              "      <td>0</td>\n",
              "      <td>0</td>\n",
              "      <td>0.0</td>\n",
              "      <td>2007-01-01 00:00:00</td>\n",
              "    </tr>\n",
              "    <tr>\n",
              "      <th>1</th>\n",
              "      <td>2007-01-01</td>\n",
              "      <td>0:01:00</td>\n",
              "      <td>2.552</td>\n",
              "      <td>0.1</td>\n",
              "      <td>241.75</td>\n",
              "      <td>10.4</td>\n",
              "      <td>0</td>\n",
              "      <td>0</td>\n",
              "      <td>0.0</td>\n",
              "      <td>2007-01-01 00:01:00</td>\n",
              "    </tr>\n",
              "    <tr>\n",
              "      <th>2</th>\n",
              "      <td>2007-01-01</td>\n",
              "      <td>0:02:00</td>\n",
              "      <td>2.55</td>\n",
              "      <td>0.1</td>\n",
              "      <td>241.64</td>\n",
              "      <td>10.4</td>\n",
              "      <td>0</td>\n",
              "      <td>0</td>\n",
              "      <td>0.0</td>\n",
              "      <td>2007-01-01 00:02:00</td>\n",
              "    </tr>\n",
              "    <tr>\n",
              "      <th>3</th>\n",
              "      <td>2007-01-01</td>\n",
              "      <td>0:03:00</td>\n",
              "      <td>2.55</td>\n",
              "      <td>0.1</td>\n",
              "      <td>241.71</td>\n",
              "      <td>10.4</td>\n",
              "      <td>0</td>\n",
              "      <td>0</td>\n",
              "      <td>0.0</td>\n",
              "      <td>2007-01-01 00:03:00</td>\n",
              "    </tr>\n",
              "    <tr>\n",
              "      <th>4</th>\n",
              "      <td>2007-01-01</td>\n",
              "      <td>0:04:00</td>\n",
              "      <td>2.554</td>\n",
              "      <td>0.1</td>\n",
              "      <td>241.98</td>\n",
              "      <td>10.4</td>\n",
              "      <td>0</td>\n",
              "      <td>0</td>\n",
              "      <td>0.0</td>\n",
              "      <td>2007-01-01 00:04:00</td>\n",
              "    </tr>\n",
              "  </tbody>\n",
              "</table>\n",
              "</div>\n",
              "      <button class=\"colab-df-convert\" onclick=\"convertToInteractive('df-688de055-0fc6-4367-a71d-eb59e18624cd')\"\n",
              "              title=\"Convert this dataframe to an interactive table.\"\n",
              "              style=\"display:none;\">\n",
              "        \n",
              "  <svg xmlns=\"http://www.w3.org/2000/svg\" height=\"24px\"viewBox=\"0 0 24 24\"\n",
              "       width=\"24px\">\n",
              "    <path d=\"M0 0h24v24H0V0z\" fill=\"none\"/>\n",
              "    <path d=\"M18.56 5.44l.94 2.06.94-2.06 2.06-.94-2.06-.94-.94-2.06-.94 2.06-2.06.94zm-11 1L8.5 8.5l.94-2.06 2.06-.94-2.06-.94L8.5 2.5l-.94 2.06-2.06.94zm10 10l.94 2.06.94-2.06 2.06-.94-2.06-.94-.94-2.06-.94 2.06-2.06.94z\"/><path d=\"M17.41 7.96l-1.37-1.37c-.4-.4-.92-.59-1.43-.59-.52 0-1.04.2-1.43.59L10.3 9.45l-7.72 7.72c-.78.78-.78 2.05 0 2.83L4 21.41c.39.39.9.59 1.41.59.51 0 1.02-.2 1.41-.59l7.78-7.78 2.81-2.81c.8-.78.8-2.07 0-2.86zM5.41 20L4 18.59l7.72-7.72 1.47 1.35L5.41 20z\"/>\n",
              "  </svg>\n",
              "      </button>\n",
              "      \n",
              "  <style>\n",
              "    .colab-df-container {\n",
              "      display:flex;\n",
              "      flex-wrap:wrap;\n",
              "      gap: 12px;\n",
              "    }\n",
              "\n",
              "    .colab-df-convert {\n",
              "      background-color: #E8F0FE;\n",
              "      border: none;\n",
              "      border-radius: 50%;\n",
              "      cursor: pointer;\n",
              "      display: none;\n",
              "      fill: #1967D2;\n",
              "      height: 32px;\n",
              "      padding: 0 0 0 0;\n",
              "      width: 32px;\n",
              "    }\n",
              "\n",
              "    .colab-df-convert:hover {\n",
              "      background-color: #E2EBFA;\n",
              "      box-shadow: 0px 1px 2px rgba(60, 64, 67, 0.3), 0px 1px 3px 1px rgba(60, 64, 67, 0.15);\n",
              "      fill: #174EA6;\n",
              "    }\n",
              "\n",
              "    [theme=dark] .colab-df-convert {\n",
              "      background-color: #3B4455;\n",
              "      fill: #D2E3FC;\n",
              "    }\n",
              "\n",
              "    [theme=dark] .colab-df-convert:hover {\n",
              "      background-color: #434B5C;\n",
              "      box-shadow: 0px 1px 3px 1px rgba(0, 0, 0, 0.15);\n",
              "      filter: drop-shadow(0px 1px 2px rgba(0, 0, 0, 0.3));\n",
              "      fill: #FFFFFF;\n",
              "    }\n",
              "  </style>\n",
              "\n",
              "      <script>\n",
              "        const buttonEl =\n",
              "          document.querySelector('#df-688de055-0fc6-4367-a71d-eb59e18624cd button.colab-df-convert');\n",
              "        buttonEl.style.display =\n",
              "          google.colab.kernel.accessAllowed ? 'block' : 'none';\n",
              "\n",
              "        async function convertToInteractive(key) {\n",
              "          const element = document.querySelector('#df-688de055-0fc6-4367-a71d-eb59e18624cd');\n",
              "          const dataTable =\n",
              "            await google.colab.kernel.invokeFunction('convertToInteractive',\n",
              "                                                     [key], {});\n",
              "          if (!dataTable) return;\n",
              "\n",
              "          const docLinkHtml = 'Like what you see? Visit the ' +\n",
              "            '<a target=\"_blank\" href=https://colab.research.google.com/notebooks/data_table.ipynb>data table notebook</a>'\n",
              "            + ' to learn more about interactive tables.';\n",
              "          element.innerHTML = '';\n",
              "          dataTable['output_type'] = 'display_data';\n",
              "          await google.colab.output.renderOutput(dataTable, element);\n",
              "          const docLink = document.createElement('div');\n",
              "          docLink.innerHTML = docLinkHtml;\n",
              "          element.appendChild(docLink);\n",
              "        }\n",
              "      </script>\n",
              "    </div>\n",
              "  </div>\n",
              "  "
            ]
          },
          "metadata": {},
          "execution_count": 3
        }
      ]
    },
    {
      "cell_type": "code",
      "source": [
        "# sort the dataframe in ascending order using the \"Datetime\" column\n",
        "data = data.sort_values([\"Datetime\"])\n",
        "data.head()"
      ],
      "metadata": {
        "colab": {
          "base_uri": "https://localhost:8080/",
          "height": 206
        },
        "id": "N1s6ub4GN5hW",
        "outputId": "29a8819b-e1b7-40a5-a91d-7628e2c12853"
      },
      "execution_count": 4,
      "outputs": [
        {
          "output_type": "execute_result",
          "data": {
            "text/plain": [
              "        Date     Time Global_active_power Global_reactive_power Voltage  \\\n",
              "0 2007-01-01  0:00:00                2.58                 0.136  241.97   \n",
              "1 2007-01-01  0:01:00               2.552                   0.1  241.75   \n",
              "2 2007-01-01  0:02:00                2.55                   0.1  241.64   \n",
              "3 2007-01-01  0:03:00                2.55                   0.1  241.71   \n",
              "4 2007-01-01  0:04:00               2.554                   0.1  241.98   \n",
              "\n",
              "  Global_intensity Sub_metering_1 Sub_metering_2  Sub_metering_3  \\\n",
              "0             10.6              0              0             0.0   \n",
              "1             10.4              0              0             0.0   \n",
              "2             10.4              0              0             0.0   \n",
              "3             10.4              0              0             0.0   \n",
              "4             10.4              0              0             0.0   \n",
              "\n",
              "             Datetime  \n",
              "0 2007-01-01 00:00:00  \n",
              "1 2007-01-01 00:01:00  \n",
              "2 2007-01-01 00:02:00  \n",
              "3 2007-01-01 00:03:00  \n",
              "4 2007-01-01 00:04:00  "
            ],
            "text/html": [
              "\n",
              "  <div id=\"df-8aefaecf-3068-4ef5-80b8-dc50e50b0941\">\n",
              "    <div class=\"colab-df-container\">\n",
              "      <div>\n",
              "<style scoped>\n",
              "    .dataframe tbody tr th:only-of-type {\n",
              "        vertical-align: middle;\n",
              "    }\n",
              "\n",
              "    .dataframe tbody tr th {\n",
              "        vertical-align: top;\n",
              "    }\n",
              "\n",
              "    .dataframe thead th {\n",
              "        text-align: right;\n",
              "    }\n",
              "</style>\n",
              "<table border=\"1\" class=\"dataframe\">\n",
              "  <thead>\n",
              "    <tr style=\"text-align: right;\">\n",
              "      <th></th>\n",
              "      <th>Date</th>\n",
              "      <th>Time</th>\n",
              "      <th>Global_active_power</th>\n",
              "      <th>Global_reactive_power</th>\n",
              "      <th>Voltage</th>\n",
              "      <th>Global_intensity</th>\n",
              "      <th>Sub_metering_1</th>\n",
              "      <th>Sub_metering_2</th>\n",
              "      <th>Sub_metering_3</th>\n",
              "      <th>Datetime</th>\n",
              "    </tr>\n",
              "  </thead>\n",
              "  <tbody>\n",
              "    <tr>\n",
              "      <th>0</th>\n",
              "      <td>2007-01-01</td>\n",
              "      <td>0:00:00</td>\n",
              "      <td>2.58</td>\n",
              "      <td>0.136</td>\n",
              "      <td>241.97</td>\n",
              "      <td>10.6</td>\n",
              "      <td>0</td>\n",
              "      <td>0</td>\n",
              "      <td>0.0</td>\n",
              "      <td>2007-01-01 00:00:00</td>\n",
              "    </tr>\n",
              "    <tr>\n",
              "      <th>1</th>\n",
              "      <td>2007-01-01</td>\n",
              "      <td>0:01:00</td>\n",
              "      <td>2.552</td>\n",
              "      <td>0.1</td>\n",
              "      <td>241.75</td>\n",
              "      <td>10.4</td>\n",
              "      <td>0</td>\n",
              "      <td>0</td>\n",
              "      <td>0.0</td>\n",
              "      <td>2007-01-01 00:01:00</td>\n",
              "    </tr>\n",
              "    <tr>\n",
              "      <th>2</th>\n",
              "      <td>2007-01-01</td>\n",
              "      <td>0:02:00</td>\n",
              "      <td>2.55</td>\n",
              "      <td>0.1</td>\n",
              "      <td>241.64</td>\n",
              "      <td>10.4</td>\n",
              "      <td>0</td>\n",
              "      <td>0</td>\n",
              "      <td>0.0</td>\n",
              "      <td>2007-01-01 00:02:00</td>\n",
              "    </tr>\n",
              "    <tr>\n",
              "      <th>3</th>\n",
              "      <td>2007-01-01</td>\n",
              "      <td>0:03:00</td>\n",
              "      <td>2.55</td>\n",
              "      <td>0.1</td>\n",
              "      <td>241.71</td>\n",
              "      <td>10.4</td>\n",
              "      <td>0</td>\n",
              "      <td>0</td>\n",
              "      <td>0.0</td>\n",
              "      <td>2007-01-01 00:03:00</td>\n",
              "    </tr>\n",
              "    <tr>\n",
              "      <th>4</th>\n",
              "      <td>2007-01-01</td>\n",
              "      <td>0:04:00</td>\n",
              "      <td>2.554</td>\n",
              "      <td>0.1</td>\n",
              "      <td>241.98</td>\n",
              "      <td>10.4</td>\n",
              "      <td>0</td>\n",
              "      <td>0</td>\n",
              "      <td>0.0</td>\n",
              "      <td>2007-01-01 00:04:00</td>\n",
              "    </tr>\n",
              "  </tbody>\n",
              "</table>\n",
              "</div>\n",
              "      <button class=\"colab-df-convert\" onclick=\"convertToInteractive('df-8aefaecf-3068-4ef5-80b8-dc50e50b0941')\"\n",
              "              title=\"Convert this dataframe to an interactive table.\"\n",
              "              style=\"display:none;\">\n",
              "        \n",
              "  <svg xmlns=\"http://www.w3.org/2000/svg\" height=\"24px\"viewBox=\"0 0 24 24\"\n",
              "       width=\"24px\">\n",
              "    <path d=\"M0 0h24v24H0V0z\" fill=\"none\"/>\n",
              "    <path d=\"M18.56 5.44l.94 2.06.94-2.06 2.06-.94-2.06-.94-.94-2.06-.94 2.06-2.06.94zm-11 1L8.5 8.5l.94-2.06 2.06-.94-2.06-.94L8.5 2.5l-.94 2.06-2.06.94zm10 10l.94 2.06.94-2.06 2.06-.94-2.06-.94-.94-2.06-.94 2.06-2.06.94z\"/><path d=\"M17.41 7.96l-1.37-1.37c-.4-.4-.92-.59-1.43-.59-.52 0-1.04.2-1.43.59L10.3 9.45l-7.72 7.72c-.78.78-.78 2.05 0 2.83L4 21.41c.39.39.9.59 1.41.59.51 0 1.02-.2 1.41-.59l7.78-7.78 2.81-2.81c.8-.78.8-2.07 0-2.86zM5.41 20L4 18.59l7.72-7.72 1.47 1.35L5.41 20z\"/>\n",
              "  </svg>\n",
              "      </button>\n",
              "      \n",
              "  <style>\n",
              "    .colab-df-container {\n",
              "      display:flex;\n",
              "      flex-wrap:wrap;\n",
              "      gap: 12px;\n",
              "    }\n",
              "\n",
              "    .colab-df-convert {\n",
              "      background-color: #E8F0FE;\n",
              "      border: none;\n",
              "      border-radius: 50%;\n",
              "      cursor: pointer;\n",
              "      display: none;\n",
              "      fill: #1967D2;\n",
              "      height: 32px;\n",
              "      padding: 0 0 0 0;\n",
              "      width: 32px;\n",
              "    }\n",
              "\n",
              "    .colab-df-convert:hover {\n",
              "      background-color: #E2EBFA;\n",
              "      box-shadow: 0px 1px 2px rgba(60, 64, 67, 0.3), 0px 1px 3px 1px rgba(60, 64, 67, 0.15);\n",
              "      fill: #174EA6;\n",
              "    }\n",
              "\n",
              "    [theme=dark] .colab-df-convert {\n",
              "      background-color: #3B4455;\n",
              "      fill: #D2E3FC;\n",
              "    }\n",
              "\n",
              "    [theme=dark] .colab-df-convert:hover {\n",
              "      background-color: #434B5C;\n",
              "      box-shadow: 0px 1px 3px 1px rgba(0, 0, 0, 0.15);\n",
              "      filter: drop-shadow(0px 1px 2px rgba(0, 0, 0, 0.3));\n",
              "      fill: #FFFFFF;\n",
              "    }\n",
              "  </style>\n",
              "\n",
              "      <script>\n",
              "        const buttonEl =\n",
              "          document.querySelector('#df-8aefaecf-3068-4ef5-80b8-dc50e50b0941 button.colab-df-convert');\n",
              "        buttonEl.style.display =\n",
              "          google.colab.kernel.accessAllowed ? 'block' : 'none';\n",
              "\n",
              "        async function convertToInteractive(key) {\n",
              "          const element = document.querySelector('#df-8aefaecf-3068-4ef5-80b8-dc50e50b0941');\n",
              "          const dataTable =\n",
              "            await google.colab.kernel.invokeFunction('convertToInteractive',\n",
              "                                                     [key], {});\n",
              "          if (!dataTable) return;\n",
              "\n",
              "          const docLinkHtml = 'Like what you see? Visit the ' +\n",
              "            '<a target=\"_blank\" href=https://colab.research.google.com/notebooks/data_table.ipynb>data table notebook</a>'\n",
              "            + ' to learn more about interactive tables.';\n",
              "          element.innerHTML = '';\n",
              "          dataTable['output_type'] = 'display_data';\n",
              "          await google.colab.output.renderOutput(dataTable, element);\n",
              "          const docLink = document.createElement('div');\n",
              "          docLink.innerHTML = docLinkHtml;\n",
              "          element.appendChild(docLink);\n",
              "        }\n",
              "      </script>\n",
              "    </div>\n",
              "  </div>\n",
              "  "
            ]
          },
          "metadata": {},
          "execution_count": 4
        }
      ]
    },
    {
      "cell_type": "code",
      "source": [
        "# create list to store numeric columns\n",
        "num_cols = [\"Global_active_power\", \"Global_reactive_power\", \"Voltage\", \n",
        "            \"Global_intensity\",\"Sub_metering_2\", \"Sub_metering_3\"]\n",
        "\n",
        "# convert them into numeric datatype\n",
        "for col in num_cols:\n",
        "  # if there is any errors during the conversion, they will be set to NaN\n",
        "  data[col] = pd.to_numeric(data[col], errors=\"coerce\")\n",
        "\n",
        "# first few rows\n",
        "data.head()"
      ],
      "metadata": {
        "colab": {
          "base_uri": "https://localhost:8080/",
          "height": 206
        },
        "id": "UlhU7rVXOXlD",
        "outputId": "9d9988c0-b68c-4bb6-c637-d2d693c5ded9"
      },
      "execution_count": 5,
      "outputs": [
        {
          "output_type": "execute_result",
          "data": {
            "text/plain": [
              "        Date     Time  Global_active_power  Global_reactive_power  Voltage  \\\n",
              "0 2007-01-01  0:00:00                2.580                  0.136   241.97   \n",
              "1 2007-01-01  0:01:00                2.552                  0.100   241.75   \n",
              "2 2007-01-01  0:02:00                2.550                  0.100   241.64   \n",
              "3 2007-01-01  0:03:00                2.550                  0.100   241.71   \n",
              "4 2007-01-01  0:04:00                2.554                  0.100   241.98   \n",
              "\n",
              "   Global_intensity Sub_metering_1  Sub_metering_2  Sub_metering_3  \\\n",
              "0              10.6              0             0.0             0.0   \n",
              "1              10.4              0             0.0             0.0   \n",
              "2              10.4              0             0.0             0.0   \n",
              "3              10.4              0             0.0             0.0   \n",
              "4              10.4              0             0.0             0.0   \n",
              "\n",
              "             Datetime  \n",
              "0 2007-01-01 00:00:00  \n",
              "1 2007-01-01 00:01:00  \n",
              "2 2007-01-01 00:02:00  \n",
              "3 2007-01-01 00:03:00  \n",
              "4 2007-01-01 00:04:00  "
            ],
            "text/html": [
              "\n",
              "  <div id=\"df-4017f92e-48c9-4ddb-ad1d-5624dc0f841b\">\n",
              "    <div class=\"colab-df-container\">\n",
              "      <div>\n",
              "<style scoped>\n",
              "    .dataframe tbody tr th:only-of-type {\n",
              "        vertical-align: middle;\n",
              "    }\n",
              "\n",
              "    .dataframe tbody tr th {\n",
              "        vertical-align: top;\n",
              "    }\n",
              "\n",
              "    .dataframe thead th {\n",
              "        text-align: right;\n",
              "    }\n",
              "</style>\n",
              "<table border=\"1\" class=\"dataframe\">\n",
              "  <thead>\n",
              "    <tr style=\"text-align: right;\">\n",
              "      <th></th>\n",
              "      <th>Date</th>\n",
              "      <th>Time</th>\n",
              "      <th>Global_active_power</th>\n",
              "      <th>Global_reactive_power</th>\n",
              "      <th>Voltage</th>\n",
              "      <th>Global_intensity</th>\n",
              "      <th>Sub_metering_1</th>\n",
              "      <th>Sub_metering_2</th>\n",
              "      <th>Sub_metering_3</th>\n",
              "      <th>Datetime</th>\n",
              "    </tr>\n",
              "  </thead>\n",
              "  <tbody>\n",
              "    <tr>\n",
              "      <th>0</th>\n",
              "      <td>2007-01-01</td>\n",
              "      <td>0:00:00</td>\n",
              "      <td>2.580</td>\n",
              "      <td>0.136</td>\n",
              "      <td>241.97</td>\n",
              "      <td>10.6</td>\n",
              "      <td>0</td>\n",
              "      <td>0.0</td>\n",
              "      <td>0.0</td>\n",
              "      <td>2007-01-01 00:00:00</td>\n",
              "    </tr>\n",
              "    <tr>\n",
              "      <th>1</th>\n",
              "      <td>2007-01-01</td>\n",
              "      <td>0:01:00</td>\n",
              "      <td>2.552</td>\n",
              "      <td>0.100</td>\n",
              "      <td>241.75</td>\n",
              "      <td>10.4</td>\n",
              "      <td>0</td>\n",
              "      <td>0.0</td>\n",
              "      <td>0.0</td>\n",
              "      <td>2007-01-01 00:01:00</td>\n",
              "    </tr>\n",
              "    <tr>\n",
              "      <th>2</th>\n",
              "      <td>2007-01-01</td>\n",
              "      <td>0:02:00</td>\n",
              "      <td>2.550</td>\n",
              "      <td>0.100</td>\n",
              "      <td>241.64</td>\n",
              "      <td>10.4</td>\n",
              "      <td>0</td>\n",
              "      <td>0.0</td>\n",
              "      <td>0.0</td>\n",
              "      <td>2007-01-01 00:02:00</td>\n",
              "    </tr>\n",
              "    <tr>\n",
              "      <th>3</th>\n",
              "      <td>2007-01-01</td>\n",
              "      <td>0:03:00</td>\n",
              "      <td>2.550</td>\n",
              "      <td>0.100</td>\n",
              "      <td>241.71</td>\n",
              "      <td>10.4</td>\n",
              "      <td>0</td>\n",
              "      <td>0.0</td>\n",
              "      <td>0.0</td>\n",
              "      <td>2007-01-01 00:03:00</td>\n",
              "    </tr>\n",
              "    <tr>\n",
              "      <th>4</th>\n",
              "      <td>2007-01-01</td>\n",
              "      <td>0:04:00</td>\n",
              "      <td>2.554</td>\n",
              "      <td>0.100</td>\n",
              "      <td>241.98</td>\n",
              "      <td>10.4</td>\n",
              "      <td>0</td>\n",
              "      <td>0.0</td>\n",
              "      <td>0.0</td>\n",
              "      <td>2007-01-01 00:04:00</td>\n",
              "    </tr>\n",
              "  </tbody>\n",
              "</table>\n",
              "</div>\n",
              "      <button class=\"colab-df-convert\" onclick=\"convertToInteractive('df-4017f92e-48c9-4ddb-ad1d-5624dc0f841b')\"\n",
              "              title=\"Convert this dataframe to an interactive table.\"\n",
              "              style=\"display:none;\">\n",
              "        \n",
              "  <svg xmlns=\"http://www.w3.org/2000/svg\" height=\"24px\"viewBox=\"0 0 24 24\"\n",
              "       width=\"24px\">\n",
              "    <path d=\"M0 0h24v24H0V0z\" fill=\"none\"/>\n",
              "    <path d=\"M18.56 5.44l.94 2.06.94-2.06 2.06-.94-2.06-.94-.94-2.06-.94 2.06-2.06.94zm-11 1L8.5 8.5l.94-2.06 2.06-.94-2.06-.94L8.5 2.5l-.94 2.06-2.06.94zm10 10l.94 2.06.94-2.06 2.06-.94-2.06-.94-.94-2.06-.94 2.06-2.06.94z\"/><path d=\"M17.41 7.96l-1.37-1.37c-.4-.4-.92-.59-1.43-.59-.52 0-1.04.2-1.43.59L10.3 9.45l-7.72 7.72c-.78.78-.78 2.05 0 2.83L4 21.41c.39.39.9.59 1.41.59.51 0 1.02-.2 1.41-.59l7.78-7.78 2.81-2.81c.8-.78.8-2.07 0-2.86zM5.41 20L4 18.59l7.72-7.72 1.47 1.35L5.41 20z\"/>\n",
              "  </svg>\n",
              "      </button>\n",
              "      \n",
              "  <style>\n",
              "    .colab-df-container {\n",
              "      display:flex;\n",
              "      flex-wrap:wrap;\n",
              "      gap: 12px;\n",
              "    }\n",
              "\n",
              "    .colab-df-convert {\n",
              "      background-color: #E8F0FE;\n",
              "      border: none;\n",
              "      border-radius: 50%;\n",
              "      cursor: pointer;\n",
              "      display: none;\n",
              "      fill: #1967D2;\n",
              "      height: 32px;\n",
              "      padding: 0 0 0 0;\n",
              "      width: 32px;\n",
              "    }\n",
              "\n",
              "    .colab-df-convert:hover {\n",
              "      background-color: #E2EBFA;\n",
              "      box-shadow: 0px 1px 2px rgba(60, 64, 67, 0.3), 0px 1px 3px 1px rgba(60, 64, 67, 0.15);\n",
              "      fill: #174EA6;\n",
              "    }\n",
              "\n",
              "    [theme=dark] .colab-df-convert {\n",
              "      background-color: #3B4455;\n",
              "      fill: #D2E3FC;\n",
              "    }\n",
              "\n",
              "    [theme=dark] .colab-df-convert:hover {\n",
              "      background-color: #434B5C;\n",
              "      box-shadow: 0px 1px 3px 1px rgba(0, 0, 0, 0.15);\n",
              "      filter: drop-shadow(0px 1px 2px rgba(0, 0, 0, 0.3));\n",
              "      fill: #FFFFFF;\n",
              "    }\n",
              "  </style>\n",
              "\n",
              "      <script>\n",
              "        const buttonEl =\n",
              "          document.querySelector('#df-4017f92e-48c9-4ddb-ad1d-5624dc0f841b button.colab-df-convert');\n",
              "        buttonEl.style.display =\n",
              "          google.colab.kernel.accessAllowed ? 'block' : 'none';\n",
              "\n",
              "        async function convertToInteractive(key) {\n",
              "          const element = document.querySelector('#df-4017f92e-48c9-4ddb-ad1d-5624dc0f841b');\n",
              "          const dataTable =\n",
              "            await google.colab.kernel.invokeFunction('convertToInteractive',\n",
              "                                                     [key], {});\n",
              "          if (!dataTable) return;\n",
              "\n",
              "          const docLinkHtml = 'Like what you see? Visit the ' +\n",
              "            '<a target=\"_blank\" href=https://colab.research.google.com/notebooks/data_table.ipynb>data table notebook</a>'\n",
              "            + ' to learn more about interactive tables.';\n",
              "          element.innerHTML = '';\n",
              "          dataTable['output_type'] = 'display_data';\n",
              "          await google.colab.output.renderOutput(dataTable, element);\n",
              "          const docLink = document.createElement('div');\n",
              "          docLink.innerHTML = docLinkHtml;\n",
              "          element.appendChild(docLink);\n",
              "        }\n",
              "      </script>\n",
              "    </div>\n",
              "  </div>\n",
              "  "
            ]
          },
          "metadata": {},
          "execution_count": 5
        }
      ]
    },
    {
      "cell_type": "code",
      "source": [
        "# Count missing values in each numeric columns\n",
        "for col in num_cols:\n",
        "  missing = data[col].isna().sum()\n",
        "  print(f\"{col} missing values --> {missing}\")"
      ],
      "metadata": {
        "colab": {
          "base_uri": "https://localhost:8080/"
        },
        "id": "bmFc38AwjvAq",
        "outputId": "7a9a029e-cc20-4c69-f66f-0516403761d7"
      },
      "execution_count": 6,
      "outputs": [
        {
          "output_type": "stream",
          "name": "stdout",
          "text": [
            "Global_active_power missing values --> 3771\n",
            "Global_reactive_power missing values --> 3771\n",
            "Voltage missing values --> 3771\n",
            "Global_intensity missing values --> 3771\n",
            "Sub_metering_2 missing values --> 3771\n",
            "Sub_metering_3 missing values --> 3771\n"
          ]
        }
      ]
    },
    {
      "cell_type": "code",
      "source": [
        "# fill the missing values in those numeric columns with average\n",
        "for col in num_cols:\n",
        "  data[col].fillna(data[col].mean(), inplace=True)"
      ],
      "metadata": {
        "id": "qbfF8LSNPhub"
      },
      "execution_count": 7,
      "outputs": []
    },
    {
      "cell_type": "code",
      "source": [
        "# check if there is any more missing values\n",
        "for col in num_cols:\n",
        "  missing = data[col].isna().sum()\n",
        "  print(f\"{col} missing values --> {missing}\")"
      ],
      "metadata": {
        "colab": {
          "base_uri": "https://localhost:8080/"
        },
        "id": "U2lqGDIfkmLE",
        "outputId": "7c35fbc1-9aa1-455e-f28a-2573697d2ffb"
      },
      "execution_count": 8,
      "outputs": [
        {
          "output_type": "stream",
          "name": "stdout",
          "text": [
            "Global_active_power missing values --> 0\n",
            "Global_reactive_power missing values --> 0\n",
            "Voltage missing values --> 0\n",
            "Global_intensity missing values --> 0\n",
            "Sub_metering_2 missing values --> 0\n",
            "Sub_metering_3 missing values --> 0\n"
          ]
        }
      ]
    },
    {
      "cell_type": "markdown",
      "source": [
        "**Drop no longer unnecessay columns from the dataframe:**"
      ],
      "metadata": {
        "id": "n6g31WzvlQua"
      }
    },
    {
      "cell_type": "code",
      "source": [
        "# drop the \"Date\", \"Time\", \"Global_reactive_power\", and \"Datetime\"\n",
        "df = data.drop([\"Date\", \"Time\", \"Global_reactive_power\", \"Datetime\"], axis=1)\n",
        "\n",
        "df.head()"
      ],
      "metadata": {
        "colab": {
          "base_uri": "https://localhost:8080/",
          "height": 206
        },
        "id": "UYtQpjFqk2of",
        "outputId": "bd5071d4-6c41-4ebd-c938-ab229dd43b76"
      },
      "execution_count": 9,
      "outputs": [
        {
          "output_type": "execute_result",
          "data": {
            "text/plain": [
              "   Global_active_power  Voltage  Global_intensity Sub_metering_1  \\\n",
              "0                2.580   241.97              10.6              0   \n",
              "1                2.552   241.75              10.4              0   \n",
              "2                2.550   241.64              10.4              0   \n",
              "3                2.550   241.71              10.4              0   \n",
              "4                2.554   241.98              10.4              0   \n",
              "\n",
              "   Sub_metering_2  Sub_metering_3  \n",
              "0             0.0             0.0  \n",
              "1             0.0             0.0  \n",
              "2             0.0             0.0  \n",
              "3             0.0             0.0  \n",
              "4             0.0             0.0  "
            ],
            "text/html": [
              "\n",
              "  <div id=\"df-19c04438-6f35-49da-a36e-9b1d7d28d942\">\n",
              "    <div class=\"colab-df-container\">\n",
              "      <div>\n",
              "<style scoped>\n",
              "    .dataframe tbody tr th:only-of-type {\n",
              "        vertical-align: middle;\n",
              "    }\n",
              "\n",
              "    .dataframe tbody tr th {\n",
              "        vertical-align: top;\n",
              "    }\n",
              "\n",
              "    .dataframe thead th {\n",
              "        text-align: right;\n",
              "    }\n",
              "</style>\n",
              "<table border=\"1\" class=\"dataframe\">\n",
              "  <thead>\n",
              "    <tr style=\"text-align: right;\">\n",
              "      <th></th>\n",
              "      <th>Global_active_power</th>\n",
              "      <th>Voltage</th>\n",
              "      <th>Global_intensity</th>\n",
              "      <th>Sub_metering_1</th>\n",
              "      <th>Sub_metering_2</th>\n",
              "      <th>Sub_metering_3</th>\n",
              "    </tr>\n",
              "  </thead>\n",
              "  <tbody>\n",
              "    <tr>\n",
              "      <th>0</th>\n",
              "      <td>2.580</td>\n",
              "      <td>241.97</td>\n",
              "      <td>10.6</td>\n",
              "      <td>0</td>\n",
              "      <td>0.0</td>\n",
              "      <td>0.0</td>\n",
              "    </tr>\n",
              "    <tr>\n",
              "      <th>1</th>\n",
              "      <td>2.552</td>\n",
              "      <td>241.75</td>\n",
              "      <td>10.4</td>\n",
              "      <td>0</td>\n",
              "      <td>0.0</td>\n",
              "      <td>0.0</td>\n",
              "    </tr>\n",
              "    <tr>\n",
              "      <th>2</th>\n",
              "      <td>2.550</td>\n",
              "      <td>241.64</td>\n",
              "      <td>10.4</td>\n",
              "      <td>0</td>\n",
              "      <td>0.0</td>\n",
              "      <td>0.0</td>\n",
              "    </tr>\n",
              "    <tr>\n",
              "      <th>3</th>\n",
              "      <td>2.550</td>\n",
              "      <td>241.71</td>\n",
              "      <td>10.4</td>\n",
              "      <td>0</td>\n",
              "      <td>0.0</td>\n",
              "      <td>0.0</td>\n",
              "    </tr>\n",
              "    <tr>\n",
              "      <th>4</th>\n",
              "      <td>2.554</td>\n",
              "      <td>241.98</td>\n",
              "      <td>10.4</td>\n",
              "      <td>0</td>\n",
              "      <td>0.0</td>\n",
              "      <td>0.0</td>\n",
              "    </tr>\n",
              "  </tbody>\n",
              "</table>\n",
              "</div>\n",
              "      <button class=\"colab-df-convert\" onclick=\"convertToInteractive('df-19c04438-6f35-49da-a36e-9b1d7d28d942')\"\n",
              "              title=\"Convert this dataframe to an interactive table.\"\n",
              "              style=\"display:none;\">\n",
              "        \n",
              "  <svg xmlns=\"http://www.w3.org/2000/svg\" height=\"24px\"viewBox=\"0 0 24 24\"\n",
              "       width=\"24px\">\n",
              "    <path d=\"M0 0h24v24H0V0z\" fill=\"none\"/>\n",
              "    <path d=\"M18.56 5.44l.94 2.06.94-2.06 2.06-.94-2.06-.94-.94-2.06-.94 2.06-2.06.94zm-11 1L8.5 8.5l.94-2.06 2.06-.94-2.06-.94L8.5 2.5l-.94 2.06-2.06.94zm10 10l.94 2.06.94-2.06 2.06-.94-2.06-.94-.94-2.06-.94 2.06-2.06.94z\"/><path d=\"M17.41 7.96l-1.37-1.37c-.4-.4-.92-.59-1.43-.59-.52 0-1.04.2-1.43.59L10.3 9.45l-7.72 7.72c-.78.78-.78 2.05 0 2.83L4 21.41c.39.39.9.59 1.41.59.51 0 1.02-.2 1.41-.59l7.78-7.78 2.81-2.81c.8-.78.8-2.07 0-2.86zM5.41 20L4 18.59l7.72-7.72 1.47 1.35L5.41 20z\"/>\n",
              "  </svg>\n",
              "      </button>\n",
              "      \n",
              "  <style>\n",
              "    .colab-df-container {\n",
              "      display:flex;\n",
              "      flex-wrap:wrap;\n",
              "      gap: 12px;\n",
              "    }\n",
              "\n",
              "    .colab-df-convert {\n",
              "      background-color: #E8F0FE;\n",
              "      border: none;\n",
              "      border-radius: 50%;\n",
              "      cursor: pointer;\n",
              "      display: none;\n",
              "      fill: #1967D2;\n",
              "      height: 32px;\n",
              "      padding: 0 0 0 0;\n",
              "      width: 32px;\n",
              "    }\n",
              "\n",
              "    .colab-df-convert:hover {\n",
              "      background-color: #E2EBFA;\n",
              "      box-shadow: 0px 1px 2px rgba(60, 64, 67, 0.3), 0px 1px 3px 1px rgba(60, 64, 67, 0.15);\n",
              "      fill: #174EA6;\n",
              "    }\n",
              "\n",
              "    [theme=dark] .colab-df-convert {\n",
              "      background-color: #3B4455;\n",
              "      fill: #D2E3FC;\n",
              "    }\n",
              "\n",
              "    [theme=dark] .colab-df-convert:hover {\n",
              "      background-color: #434B5C;\n",
              "      box-shadow: 0px 1px 3px 1px rgba(0, 0, 0, 0.15);\n",
              "      filter: drop-shadow(0px 1px 2px rgba(0, 0, 0, 0.3));\n",
              "      fill: #FFFFFF;\n",
              "    }\n",
              "  </style>\n",
              "\n",
              "      <script>\n",
              "        const buttonEl =\n",
              "          document.querySelector('#df-19c04438-6f35-49da-a36e-9b1d7d28d942 button.colab-df-convert');\n",
              "        buttonEl.style.display =\n",
              "          google.colab.kernel.accessAllowed ? 'block' : 'none';\n",
              "\n",
              "        async function convertToInteractive(key) {\n",
              "          const element = document.querySelector('#df-19c04438-6f35-49da-a36e-9b1d7d28d942');\n",
              "          const dataTable =\n",
              "            await google.colab.kernel.invokeFunction('convertToInteractive',\n",
              "                                                     [key], {});\n",
              "          if (!dataTable) return;\n",
              "\n",
              "          const docLinkHtml = 'Like what you see? Visit the ' +\n",
              "            '<a target=\"_blank\" href=https://colab.research.google.com/notebooks/data_table.ipynb>data table notebook</a>'\n",
              "            + ' to learn more about interactive tables.';\n",
              "          element.innerHTML = '';\n",
              "          dataTable['output_type'] = 'display_data';\n",
              "          await google.colab.output.renderOutput(dataTable, element);\n",
              "          const docLink = document.createElement('div');\n",
              "          docLink.innerHTML = docLinkHtml;\n",
              "          element.appendChild(docLink);\n",
              "        }\n",
              "      </script>\n",
              "    </div>\n",
              "  </div>\n",
              "  "
            ]
          },
          "metadata": {},
          "execution_count": 9
        }
      ]
    },
    {
      "cell_type": "markdown",
      "source": [
        "**Perfrom feature scaling to the dataframe:**"
      ],
      "metadata": {
        "id": "39kV8kcemLu3"
      }
    },
    {
      "cell_type": "code",
      "source": [
        "# initialize the scaler\n",
        "scaler = MinMaxScaler()\n",
        "\n",
        "# rescale the feature values\n",
        "df = df.replace(\"?\", np.nan)\n",
        "scaled_data = scaler.fit_transform(df)\n",
        "scaled_data"
      ],
      "metadata": {
        "colab": {
          "base_uri": "https://localhost:8080/"
        },
        "id": "Kv4KDVl7lvHR",
        "outputId": "d46fa764-09c0-462f-ff36-f8a7a293078e"
      },
      "execution_count": 10,
      "outputs": [
        {
          "output_type": "execute_result",
          "data": {
            "text/plain": [
              "array([[0.23592747, 0.67445255, 0.22173913, 0.        , 0.        ,\n",
              "        0.        ],\n",
              "       [0.23328296, 0.66642336, 0.2173913 , 0.        , 0.        ,\n",
              "        0.        ],\n",
              "       [0.23309407, 0.66240876, 0.2173913 , 0.        , 0.        ,\n",
              "        0.        ],\n",
              "       ...,\n",
              "       [0.26445032, 0.56788321, 0.25217391, 0.        , 0.        ,\n",
              "        0.9       ],\n",
              "       [0.24348319, 0.56532847, 0.23478261, 0.        , 0.        ,\n",
              "        0.9       ],\n",
              "       [0.23290518, 0.57518248, 0.22173913, 0.        , 0.01282051,\n",
              "        0.85      ]])"
            ]
          },
          "metadata": {},
          "execution_count": 10
        }
      ]
    },
    {
      "cell_type": "markdown",
      "source": [
        "**Prepare training and testing dataset:**"
      ],
      "metadata": {
        "id": "TcT-MybFquGl"
      }
    },
    {
      "cell_type": "code",
      "source": [
        "# to store features and target variables\n",
        "X = []\n",
        "y = []\n",
        "\n",
        "# create a training dataset that has previous 60 minutes' power consumption\n",
        "# so that you can predict the value for the next minute\n",
        "for i in range(60, scaled_data.shape[0]):\n",
        "  X.append(scaled_data[i-60:i])\n",
        "  y.append(scaled_data[i, 0])"
      ],
      "metadata": {
        "id": "rzVg8alhmzhX"
      },
      "execution_count": 11,
      "outputs": []
    },
    {
      "cell_type": "code",
      "source": [
        "# convert the X and y into NumPy arrays in preparation for traning the model\n",
        "X, y = np.array(X), np.array(y)"
      ],
      "metadata": {
        "id": "7yTR7VIGrruh"
      },
      "execution_count": 12,
      "outputs": []
    },
    {
      "cell_type": "code",
      "source": [
        "# split the dataset into traning and testing sets with data before and after the index 217440\n",
        "X_train = X[:217440]\n",
        "y_train = y[:217440]\n",
        "\n",
        "X_test = X[217440:]\n",
        "y_test = y[217440:]"
      ],
      "metadata": {
        "id": "S4D9ooOVr6mq"
      },
      "execution_count": 13,
      "outputs": []
    },
    {
      "cell_type": "markdown",
      "source": [
        "**Building the RNN model**"
      ],
      "metadata": {
        "id": "Gh8-gEYEsjPJ"
      }
    },
    {
      "cell_type": "code",
      "source": [
        "# required libraries\n",
        "from tensorflow.keras import Sequential\n",
        "from tensorflow.keras.layers import Dense, LSTM, Dropout"
      ],
      "metadata": {
        "id": "2_gcethlsYQh"
      },
      "execution_count": 14,
      "outputs": []
    },
    {
      "cell_type": "markdown",
      "source": [
        "Build the RNN model architecture"
      ],
      "metadata": {
        "id": "MDTBPSA4tZt-"
      }
    },
    {
      "cell_type": "code",
      "source": [
        "# create a Sequential model\n",
        "regressor = Sequential()"
      ],
      "metadata": {
        "id": "aUxcqcwXuWcP"
      },
      "execution_count": 15,
      "outputs": []
    },
    {
      "cell_type": "code",
      "source": [
        "# add a LSTM layer with 20units and \"relu\" activation function\n",
        "regressor.add(LSTM(units=20, activation=\"relu\", return_sequences=True, \n",
        "                   input_shape=(X_train.shape[1], X_train.shape[2])))\n",
        "# add dropout layer with 50% to prevent overfitting\n",
        "regressor.add(Dropout(0.5))\n",
        "\n",
        "# add another LSTM layer with 40 units and \"relu\" activation function\n",
        "regressor.add(LSTM(units=40, activation=\"relu\", return_sequences=True))\n",
        "# add another dropout layer with a rate of 50% to prevent overfitting\n",
        "regressor.add(Dropout(0.5))\n",
        "\n",
        "# add another LSTM layer with 80 units and \"relu\" activation function\n",
        "# return_sequences = True, not required in final LSTM layer\n",
        "regressor.add(LSTM(units=80, activation=\"relu\"))\n",
        "# add another Dropout layer with a rate of 50% to prevent overfitting\n",
        "regressor.add(Dropout(0.5))\n",
        "\n",
        "# add a Dense output layer with 1 unit\n",
        "regressor.add(Dense(units=1))"
      ],
      "metadata": {
        "colab": {
          "base_uri": "https://localhost:8080/"
        },
        "id": "8klnati4sysx",
        "outputId": "832d742b-a84a-4c28-fdd9-5b835608a0ba"
      },
      "execution_count": 16,
      "outputs": [
        {
          "output_type": "stream",
          "name": "stderr",
          "text": [
            "WARNING:tensorflow:Layer lstm will not use cuDNN kernels since it doesn't meet the criteria. It will use a generic GPU kernel as fallback when running on GPU.\n",
            "WARNING:tensorflow:Layer lstm_1 will not use cuDNN kernels since it doesn't meet the criteria. It will use a generic GPU kernel as fallback when running on GPU.\n",
            "WARNING:tensorflow:Layer lstm_2 will not use cuDNN kernels since it doesn't meet the criteria. It will use a generic GPU kernel as fallback when running on GPU.\n"
          ]
        }
      ]
    },
    {
      "cell_type": "code",
      "source": [
        "# summary of the RNN model architecture\n",
        "regressor.summary()"
      ],
      "metadata": {
        "colab": {
          "base_uri": "https://localhost:8080/"
        },
        "id": "gmxckBhXxHk9",
        "outputId": "99eea852-62e6-4189-a192-cb24640ffdd4"
      },
      "execution_count": 17,
      "outputs": [
        {
          "output_type": "stream",
          "name": "stdout",
          "text": [
            "Model: \"sequential\"\n",
            "_________________________________________________________________\n",
            " Layer (type)                Output Shape              Param #   \n",
            "=================================================================\n",
            " lstm (LSTM)                 (None, 60, 20)            2160      \n",
            "                                                                 \n",
            " dropout (Dropout)           (None, 60, 20)            0         \n",
            "                                                                 \n",
            " lstm_1 (LSTM)               (None, 60, 40)            9760      \n",
            "                                                                 \n",
            " dropout_1 (Dropout)         (None, 60, 40)            0         \n",
            "                                                                 \n",
            " lstm_2 (LSTM)               (None, 80)                38720     \n",
            "                                                                 \n",
            " dropout_2 (Dropout)         (None, 80)                0         \n",
            "                                                                 \n",
            " dense (Dense)               (None, 1)                 81        \n",
            "                                                                 \n",
            "=================================================================\n",
            "Total params: 50,721\n",
            "Trainable params: 50,721\n",
            "Non-trainable params: 0\n",
            "_________________________________________________________________\n"
          ]
        }
      ]
    },
    {
      "cell_type": "markdown",
      "source": [
        "**Compile the RNN model with Adam optimizer and MSE loss function**"
      ],
      "metadata": {
        "id": "fU_xUbHr0UZD"
      }
    },
    {
      "cell_type": "code",
      "source": [
        "regressor.compile(\n",
        "    optimizer = \"Adam\",\n",
        "    loss = \"mean_squared_error\"\n",
        ")"
      ],
      "metadata": {
        "id": "xp7HnMmCzxm0"
      },
      "execution_count": 18,
      "outputs": []
    },
    {
      "cell_type": "markdown",
      "source": [
        "**Fit the RNN model to the training dataset**"
      ],
      "metadata": {
        "id": "xj9sUF350sGp"
      }
    },
    {
      "cell_type": "code",
      "source": [
        "regressor.fit(\n",
        "    X_train, y_train,\n",
        "    epochs=2,\n",
        "    batch_size=32\n",
        ")"
      ],
      "metadata": {
        "colab": {
          "base_uri": "https://localhost:8080/"
        },
        "id": "s7p9Y9ck0rkm",
        "outputId": "a8c9973c-f9fa-44f2-844f-5c907dc9d66a"
      },
      "execution_count": null,
      "outputs": [
        {
          "output_type": "stream",
          "name": "stdout",
          "text": [
            "Epoch 1/2\n",
            "4169/6795 [=================>............] - ETA: 6:41 - loss: nan"
          ]
        }
      ]
    },
    {
      "cell_type": "markdown",
      "source": [
        "**Make a Prediction using the trained RNN model**"
      ],
      "metadata": {
        "id": "wmmDtFDZ4xO6"
      }
    },
    {
      "cell_type": "code",
      "source": [
        "y_pred = regressor.predict(X_test)\n",
        "y_pred"
      ],
      "metadata": {
        "colab": {
          "base_uri": "https://localhost:8080/"
        },
        "id": "5Tr-BFUw1AKO",
        "outputId": "c06f755c-bc30-4f8d-f1b0-28f0678cc7c4"
      },
      "execution_count": 59,
      "outputs": [
        {
          "output_type": "stream",
          "name": "stdout",
          "text": [
            "1349/1349 [==============================] - 54s 40ms/step\n"
          ]
        },
        {
          "output_type": "execute_result",
          "data": {
            "text/plain": [
              "array([[nan],\n",
              "       [nan],\n",
              "       [nan],\n",
              "       ...,\n",
              "       [nan],\n",
              "       [nan],\n",
              "       [nan]], dtype=float32)"
            ]
          },
          "metadata": {},
          "execution_count": 59
        }
      ]
    },
    {
      "cell_type": "markdown",
      "source": [
        "**Compare the real household power consumption and model's predictions for the last hour of data from test set**"
      ],
      "metadata": {
        "id": "FOkO56515v1w"
      }
    },
    {
      "cell_type": "code",
      "source": [
        "import matplotlib.pyplot as plt\n",
        "\n",
        "# set the figure size\n",
        "plt.figure(figsize=(14, 5))\n",
        "\n",
        "# plot the last 60 values of the true power consumption\n",
        "plt.plot(y_test[-60:], color=\"black\", label=\"Real Power Consumption\")\n",
        "\n",
        "# plot the last 60 values of the predicted power consumption\n",
        "plt.plot(y_pred[-60:], color=\"red\", label=\"Predicted Power Consumption\")\n",
        "\n",
        "# set the title of the plot\n",
        "plt.title(\"Real v/s Predicted Power Consumption\")\n",
        "\n",
        "# set the x-axis and y-axis\n",
        "plt.xlabel(\"Time\")\n",
        "plt.ylabel(\"Power Consumption\")\n",
        "\n",
        "# add a legend to the plot\n",
        "plt.legend()\n",
        "\n",
        "# display the plot\n",
        "plt.show()"
      ],
      "metadata": {
        "colab": {
          "base_uri": "https://localhost:8080/",
          "height": 350
        },
        "id": "vg_iNUml59Ld",
        "outputId": "c073e3bd-8210-4f9f-86b7-729e0f44c52a"
      },
      "execution_count": 60,
      "outputs": [
        {
          "output_type": "display_data",
          "data": {
            "text/plain": [
              "<Figure size 1008x360 with 1 Axes>"
            ],
            "image/png": "[encoded data removed]"
          },
          "metadata": {
            "needs_background": "light"
          }
        }
      ]
    },
    {
      "cell_type": "markdown",
      "source": [
        "# <center>**Natural Language Processing(NLP)**</center>\n",
        "\n",
        "**--> Applying RNNs to Text**"
      ],
      "metadata": {
        "id": "LqkVREMt_fg1"
      }
    },
    {
      "cell_type": "code",
      "source": [],
      "metadata": {
        "id": "CTk7VjB29YXd"
      },
      "execution_count": null,
      "outputs": []
    }
  ]
}