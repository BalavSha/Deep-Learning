{
 "nbformat": 4,
 "nbformat_minor": 0,
 "metadata": {
  "colab": {
   "provenance": []
  },
  "kernelspec": {
   "name": "python3",
   "display_name": "Python 3"
  },
  "language_info": {
   "name": "python"
  }
 },
 "cells": [
  {
   "cell_type": "markdown",
   "source": [
    "# <center> **Recurrent Neural Network(RNNs)** </center>\n",
    "\n",
    "--> ANNs to handle sequential data"
   ],
   "metadata": {
    "id": "PCMo8n4AllQO"
   }
  },
  {
   "cell_type": "markdown",
   "source": [
    "You need to develop RNN models that can do the following:\n",
    "\n",
    "\n",
    "*   Handle variable-length input sequences\n",
    "\n",
    "*   Track long-term dependencies in the data\n",
    "\n",
    "*   Maintain information about the sequence's order\n",
    "\n",
    "*   Share parameters across the entirety of the sequence"
   ],
   "metadata": {
    "id": "S30OSyEWgPtZ"
   }
  },
  {
   "cell_type": "markdown",
   "source": [
    "### **Training an ANN for Sequential Data - Nvidia Stock prediction**\n",
    "\n",
    "\n",
    "*   **target variable** -> Price of stock in a given day\n",
    "*   **features** -> Price of a stock in a previous 60 days"
   ],
   "metadata": {
    "id": "oWP4wsGDg5f4"
   }
  },
  {
   "cell_type": "code",
   "execution_count": 1,
   "metadata": {
    "id": "Cx6PBFOKlIrY"
   },
   "outputs": [],
   "source": [
    "# import required libraries\n",
    "import numpy as np\n",
    "import matplotlib.pyplot as plt\n",
    "import pandas as pd"
   ]
  },
  {
   "cell_type": "markdown",
   "source": [
    "1. Import Nvidia Stock Data:"
   ],
   "metadata": {
    "id": "vj7VUSq1By_m"
   }
  },
  {
   "cell_type": "code",
   "source": [
    "# import dataset\n",
    "data = pd.read_csv(\"https://raw.githubusercontent.com/PacktWorkshops/The-TensorFlow-Workshop/master/Chapter09/Datasets/NVDA.csv\")\n",
    "\n",
    "# display first 5 rows of the dataset\n",
    "data.head()"
   ],
   "metadata": {
    "colab": {
     "base_uri": "https://localhost:8080/",
     "height": 206
    },
    "id": "lnKpupIDBgYZ",
    "outputId": "760fb58f-2843-46ed-d03d-b8b5b32549c1"
   },
   "execution_count": 3,
   "outputs": [
    {
     "data": {
      "text/plain": "         Date       Open       High    Low      Close  Adj Close   Volume\n0  2015-07-22  19.650000  19.650000  19.17  19.410000  18.851749  8911800\n1  2015-07-23  19.450001  19.940001  19.41  19.650000  19.084845  4247900\n2  2015-07-24  19.790001  19.809999  19.34  19.420000  18.861464  4721100\n3  2015-07-27  19.250000  19.530001  19.09  19.309999  18.754622  4810500\n4  2015-07-28  19.360001  19.860001  19.16  19.730000  19.162542  4957700",
      "text/html": "<div>\n<style scoped>\n    .dataframe tbody tr th:only-of-type {\n        vertical-align: middle;\n    }\n\n    .dataframe tbody tr th {\n        vertical-align: top;\n    }\n\n    .dataframe thead th {\n        text-align: right;\n    }\n</style>\n<table border=\"1\" class=\"dataframe\">\n  <thead>\n    <tr style=\"text-align: right;\">\n      <th></th>\n      <th>Date</th>\n      <th>Open</th>\n      <th>High</th>\n      <th>Low</th>\n      <th>Close</th>\n      <th>Adj Close</th>\n      <th>Volume</th>\n    </tr>\n  </thead>\n  <tbody>\n    <tr>\n      <th>0</th>\n      <td>2015-07-22</td>\n      <td>19.650000</td>\n      <td>19.650000</td>\n      <td>19.17</td>\n      <td>19.410000</td>\n      <td>18.851749</td>\n      <td>8911800</td>\n    </tr>\n    <tr>\n      <th>1</th>\n      <td>2015-07-23</td>\n      <td>19.450001</td>\n      <td>19.940001</td>\n      <td>19.41</td>\n      <td>19.650000</td>\n      <td>19.084845</td>\n      <td>4247900</td>\n    </tr>\n    <tr>\n      <th>2</th>\n      <td>2015-07-24</td>\n      <td>19.790001</td>\n      <td>19.809999</td>\n      <td>19.34</td>\n      <td>19.420000</td>\n      <td>18.861464</td>\n      <td>4721100</td>\n    </tr>\n    <tr>\n      <th>3</th>\n      <td>2015-07-27</td>\n      <td>19.250000</td>\n      <td>19.530001</td>\n      <td>19.09</td>\n      <td>19.309999</td>\n      <td>18.754622</td>\n      <td>4810500</td>\n    </tr>\n    <tr>\n      <th>4</th>\n      <td>2015-07-28</td>\n      <td>19.360001</td>\n      <td>19.860001</td>\n      <td>19.16</td>\n      <td>19.730000</td>\n      <td>19.162542</td>\n      <td>4957700</td>\n    </tr>\n  </tbody>\n</table>\n</div>"
     },
     "execution_count": 3,
     "metadata": {},
     "output_type": "execute_result"
    }
   ]
  },
  {
   "cell_type": "markdown",
   "source": [
    "2. Split the dataset into training and test sets:"
   ],
   "metadata": {
    "id": "bQqUlaOzCmto"
   }
  },
  {
   "cell_type": "code",
   "source": [
    "#  use data before \"2019-01-01\" as training set\n",
    "data_training = data[data[\"Date\"] < \"2019-01-01\"].copy()\n",
    "\n",
    "# use data after \"2019-01-01\" as testing set\n",
    "data_test = data[data[\"Date\"] >= \"2019-01-01\"].copy()"
   ],
   "metadata": {
    "id": "M__7FrnkCYSw"
   },
   "execution_count": 4,
   "outputs": []
  },
  {
   "cell_type": "code",
   "execution_count": 5,
   "outputs": [
    {
     "data": {
      "text/plain": "        Open       High    Low      Close   Volume\n0  19.650000  19.650000  19.17  19.410000  8911800\n1  19.450001  19.940001  19.41  19.650000  4247900\n2  19.790001  19.809999  19.34  19.420000  4721100\n3  19.250000  19.530001  19.09  19.309999  4810500\n4  19.360001  19.860001  19.16  19.730000  4957700",
      "text/html": "<div>\n<style scoped>\n    .dataframe tbody tr th:only-of-type {\n        vertical-align: middle;\n    }\n\n    .dataframe tbody tr th {\n        vertical-align: top;\n    }\n\n    .dataframe thead th {\n        text-align: right;\n    }\n</style>\n<table border=\"1\" class=\"dataframe\">\n  <thead>\n    <tr style=\"text-align: right;\">\n      <th></th>\n      <th>Open</th>\n      <th>High</th>\n      <th>Low</th>\n      <th>Close</th>\n      <th>Volume</th>\n    </tr>\n  </thead>\n  <tbody>\n    <tr>\n      <th>0</th>\n      <td>19.650000</td>\n      <td>19.650000</td>\n      <td>19.17</td>\n      <td>19.410000</td>\n      <td>8911800</td>\n    </tr>\n    <tr>\n      <th>1</th>\n      <td>19.450001</td>\n      <td>19.940001</td>\n      <td>19.41</td>\n      <td>19.650000</td>\n      <td>4247900</td>\n    </tr>\n    <tr>\n      <th>2</th>\n      <td>19.790001</td>\n      <td>19.809999</td>\n      <td>19.34</td>\n      <td>19.420000</td>\n      <td>4721100</td>\n    </tr>\n    <tr>\n      <th>3</th>\n      <td>19.250000</td>\n      <td>19.530001</td>\n      <td>19.09</td>\n      <td>19.309999</td>\n      <td>4810500</td>\n    </tr>\n    <tr>\n      <th>4</th>\n      <td>19.360001</td>\n      <td>19.860001</td>\n      <td>19.16</td>\n      <td>19.730000</td>\n      <td>4957700</td>\n    </tr>\n  </tbody>\n</table>\n</div>"
     },
     "execution_count": 5,
     "metadata": {},
     "output_type": "execute_result"
    }
   ],
   "source": [
    "# drop the un-necessary columns after splitting\n",
    "training_data = data_training.drop([\"Date\", \"Adj Close\"], axis=1)\n",
    "test_data = data_test.drop([\"Date\", \"Adj Close\"], axis=1)\n",
    "\n",
    "# display the changed dataframe\n",
    "training_data.head()"
   ],
   "metadata": {
    "collapsed": false
   }
  },
  {
   "cell_type": "markdown",
   "source": [
    "3. Rescale the training data in a uniform range"
   ],
   "metadata": {
    "collapsed": false
   }
  },
  {
   "cell_type": "code",
   "execution_count": 6,
   "outputs": [
    {
     "data": {
      "text/plain": "Index(['Open', 'High', 'Low', 'Close', 'Volume'], dtype='object')"
     },
     "execution_count": 6,
     "metadata": {},
     "output_type": "execute_result"
    }
   ],
   "source": [
    "# store the column names before rescaling\n",
    "train_cols = training_data.columns\n",
    "test_cols = test_data.columns\n",
    "\n",
    "train_cols"
   ],
   "metadata": {
    "collapsed": false
   }
  },
  {
   "cell_type": "code",
   "execution_count": 7,
   "outputs": [
    {
     "ename": "AttributeError",
     "evalue": "'numpy.ndarray' object has no attribute 'head'",
     "output_type": "error",
     "traceback": [
      "\u001B[1;31m---------------------------------------------------------------------------\u001B[0m",
      "\u001B[1;31mAttributeError\u001B[0m                            Traceback (most recent call last)",
      "Input \u001B[1;32mIn [7]\u001B[0m, in \u001B[0;36m<cell line: 9>\u001B[1;34m()\u001B[0m\n\u001B[0;32m      7\u001B[0m training_data \u001B[38;5;241m=\u001B[39m scaler\u001B[38;5;241m.\u001B[39mfit_transform(training_data)\n\u001B[0;32m      8\u001B[0m \u001B[38;5;66;03m# training_data = pd.DataFrame(training_data, columns=train_cols)\u001B[39;00m\n\u001B[1;32m----> 9\u001B[0m \u001B[43mtraining_data\u001B[49m\u001B[38;5;241;43m.\u001B[39;49m\u001B[43mhead\u001B[49m()\n",
      "\u001B[1;31mAttributeError\u001B[0m: 'numpy.ndarray' object has no attribute 'head'"
     ]
    }
   ],
   "source": [
    "from sklearn.preprocessing import MinMaxScaler, StandardScaler\n",
    "\n",
    "# initialize the scaler\n",
    "scaler = MinMaxScaler()\n",
    "\n",
    "# perform the rescaling\n",
    "training_data = scaler.fit_transform(training_data)\n",
    "# training_data = pd.DataFrame(training_data, columns=train_cols)\n",
    "training_data.head()"
   ],
   "metadata": {
    "collapsed": false
   }
  },
  {
   "cell_type": "markdown",
   "source": [
    "4. Prepare data from traning and testing"
   ],
   "metadata": {
    "collapsed": false
   }
  },
  {
   "cell_type": "code",
   "execution_count": 8,
   "outputs": [
    {
     "data": {
      "text/plain": "868"
     },
     "execution_count": 8,
     "metadata": {},
     "output_type": "execute_result"
    }
   ],
   "source": [
    "# check the shape of training_data\n",
    "training_data.shape[0]"
   ],
   "metadata": {
    "collapsed": false
   }
  },
  {
   "cell_type": "code",
   "execution_count": 9,
   "outputs": [],
   "source": [
    "# split your data into X_train and y_train\n",
    "X_train = []\n",
    "y_train = []\n",
    "\n",
    "# Looping through the range of 60 to the number of rows in training_data\n",
    "for i in range(60, training_data.shape[0]):\n",
    "\n",
    "    # Appending the values of training_data from i-60 to i to X_train\n",
    "    X_train.append(training_data[i-60:i])\n",
    "\n",
    "    # Appending the value of training_data at index i, column 0 to y_train\n",
    "    y_train.append(training_data[i, 0])"
   ],
   "metadata": {
    "collapsed": false
   }
  },
  {
   "cell_type": "code",
   "execution_count": 10,
   "outputs": [
    {
     "name": "stdout",
     "output_type": "stream",
     "text": [
      "X_train: (808, 60, 5)\n",
      "y_train: (808,)\n"
     ]
    }
   ],
   "source": [
    "# convert X_train and y_train into NumPy arrays\n",
    "X_train, y_train = np.array(X_train), np.array(y_train)\n",
    "\n",
    "# display the dimension of X_train, y_train\n",
    "print(\"X_train:\", X_train.shape)\n",
    "print(\"y_train:\", y_train.shape)"
   ],
   "metadata": {
    "collapsed": false
   }
  },
  {
   "cell_type": "markdown",
   "source": [
    "--> As shown above, the prepared training set contains 808 observations with 60 days of data for the five features."
   ],
   "metadata": {
    "collapsed": false
   }
  },
  {
   "cell_type": "markdown",
   "source": [
    "##### Transform the data into a 2D matrix with the shape of the sample (the number of samples and the number of features in each sample).<br>\n",
    "##### Stack the features for all 60 days on top of each other to get an output size of (808, 300)"
   ],
   "metadata": {
    "collapsed": false
   }
  },
  {
   "cell_type": "code",
   "execution_count": 12,
   "outputs": [
    {
     "data": {
      "text/plain": "(808, 300)"
     },
     "execution_count": 12,
     "metadata": {},
     "output_type": "execute_result"
    }
   ],
   "source": [
    "# save the shape of X_train\n",
    "X_old_shape = X_train.shape\n",
    "\n",
    "# reshaping X_train to have X_old_shape[0] rows and X_old_shape[1]*X_old_shape[2] columns\n",
    "X_train = X_train.reshape(X_old_shape[0], X_old_shape[1]*X_old_shape[2])\n",
    "\n",
    "# display the reshaped X_train\n",
    "X_train.shape"
   ],
   "metadata": {
    "collapsed": false
   }
  },
  {
   "cell_type": "markdown",
   "source": [
    "5. Build an ANN model."
   ],
   "metadata": {
    "collapsed": false
   }
  },
  {
   "cell_type": "code",
   "execution_count": 13,
   "outputs": [],
   "source": [
    "# import libraries\n",
    "import tensorflow as tf\n",
    "from tensorflow.keras import Sequential\n",
    "from tensorflow.keras.layers import Input, Dense, Dropout"
   ],
   "metadata": {
    "collapsed": false
   }
  },
  {
   "cell_type": "code",
   "execution_count": 14,
   "outputs": [],
   "source": [
    "# initialize the ANN model\n",
    "regressor_ann = Sequential()"
   ],
   "metadata": {
    "collapsed": false
   }
  },
  {
   "cell_type": "code",
   "execution_count": 16,
   "outputs": [],
   "source": [
    "# add an input layer with input_shape as 300\n",
    "regressor_ann.add(Input(shape = (X_train.shape[1])))\n",
    "\n",
    "# add dense layer with 512 units as output\n",
    "regressor_ann.add(Dense(512, activation=\"relu\"))\n",
    "# add dropout layer to remove 20% of the units during training to prevent overfitting\n",
    "regressor_ann.add(Dropout(0.2))\n",
    "\n",
    "# add another dense layer and Dropout layer\n",
    "regressor_ann.add(Dense(128, activation=\"relu\"))\n",
    "# add another Dropout layer\n",
    "regressor_ann.add(Dropout(0.3))\n",
    "\n",
    "# add another dense and dropout layer\n",
    "regressor_ann.add(Dense(64, activation=\"relu\"))\n",
    "regressor_ann.add(Dropout(0.4))\n",
    "\n",
    "# add another dense and dropout layer\n",
    "regressor_ann.add(Dense(16, activation=\"relu\"))\n",
    "regressor_ann.add(Dropout(0.5))\n",
    "\n",
    "# add final dense layer as output\n",
    "regressor_ann.add(Dense(1))"
   ],
   "metadata": {
    "collapsed": false
   }
  },
  {
   "cell_type": "code",
   "execution_count": 17,
   "outputs": [
    {
     "name": "stdout",
     "output_type": "stream",
     "text": [
      "Model: \"sequential\"\n",
      "_________________________________________________________________\n",
      " Layer (type)                Output Shape              Param #   \n",
      "=================================================================\n",
      " dense (Dense)               (None, 512)               154112    \n",
      "                                                                 \n",
      " dropout (Dropout)           (None, 512)               0         \n",
      "                                                                 \n",
      " dense_1 (Dense)             (None, 128)               65664     \n",
      "                                                                 \n",
      " dropout_1 (Dropout)         (None, 128)               0         \n",
      "                                                                 \n",
      " dense_2 (Dense)             (None, 64)                8256      \n",
      "                                                                 \n",
      " dropout_2 (Dropout)         (None, 64)                0         \n",
      "                                                                 \n",
      " dense_3 (Dense)             (None, 16)                1040      \n",
      "                                                                 \n",
      " dropout_3 (Dropout)         (None, 16)                0         \n",
      "                                                                 \n",
      " dense_4 (Dense)             (None, 1)                 17        \n",
      "                                                                 \n",
      "=================================================================\n",
      "Total params: 229,089\n",
      "Trainable params: 229,089\n",
      "Non-trainable params: 0\n",
      "_________________________________________________________________\n"
     ]
    }
   ],
   "source": [
    "# display of the model architecture\n",
    "regressor_ann.summary()"
   ],
   "metadata": {
    "collapsed": false
   }
  },
  {
   "cell_type": "markdown",
   "source": [
    "6. Compile the model with optimizer, loss function and accuracy metrics."
   ],
   "metadata": {
    "collapsed": false
   }
  },
  {
   "cell_type": "code",
   "execution_count": 18,
   "outputs": [],
   "source": [
    "# compile the model for training\n",
    "regressor_ann.compile(\n",
    "    optimizer=\"adam\",\n",
    "    loss=\"mean_squared_error\",\n",
    "    metrics=\"mse\"\n",
    "                    )"
   ],
   "metadata": {
    "collapsed": false
   }
  },
  {
   "cell_type": "markdown",
   "source": [
    "7. Train the ANN model"
   ],
   "metadata": {
    "collapsed": false
   }
  },
  {
   "cell_type": "code",
   "execution_count": 20,
   "outputs": [
    {
     "name": "stdout",
     "output_type": "stream",
     "text": [
      "Epoch 1/20\n",
      "26/26 [==============================] - 0s 2ms/step - loss: 0.0438 - mse: 0.0438\n",
      "Epoch 2/20\n",
      "26/26 [==============================] - 0s 2ms/step - loss: 0.0410 - mse: 0.0410\n",
      "Epoch 3/20\n",
      "26/26 [==============================] - 0s 1ms/step - loss: 0.0396 - mse: 0.0396\n",
      "Epoch 4/20\n",
      "26/26 [==============================] - 0s 1ms/step - loss: 0.0395 - mse: 0.0395\n",
      "Epoch 5/20\n",
      "26/26 [==============================] - 0s 2ms/step - loss: 0.0402 - mse: 0.0402\n",
      "Epoch 6/20\n",
      "26/26 [==============================] - 0s 2ms/step - loss: 0.0326 - mse: 0.0326\n",
      "Epoch 7/20\n",
      "26/26 [==============================] - 0s 1ms/step - loss: 0.0335 - mse: 0.0335\n",
      "Epoch 8/20\n",
      "26/26 [==============================] - 0s 2ms/step - loss: 0.0297 - mse: 0.0297\n",
      "Epoch 9/20\n",
      "26/26 [==============================] - 0s 1ms/step - loss: 0.0311 - mse: 0.0311\n",
      "Epoch 10/20\n",
      "26/26 [==============================] - 0s 1ms/step - loss: 0.0304 - mse: 0.0304\n",
      "Epoch 11/20\n",
      "26/26 [==============================] - 0s 2ms/step - loss: 0.0321 - mse: 0.0321\n",
      "Epoch 12/20\n",
      "26/26 [==============================] - 0s 2ms/step - loss: 0.0270 - mse: 0.0270\n",
      "Epoch 13/20\n",
      "26/26 [==============================] - 0s 2ms/step - loss: 0.0310 - mse: 0.0310\n",
      "Epoch 14/20\n",
      "26/26 [==============================] - 0s 2ms/step - loss: 0.0300 - mse: 0.0300\n",
      "Epoch 15/20\n",
      "26/26 [==============================] - 0s 2ms/step - loss: 0.0272 - mse: 0.0272\n",
      "Epoch 16/20\n",
      "26/26 [==============================] - 0s 2ms/step - loss: 0.0227 - mse: 0.0227\n",
      "Epoch 17/20\n",
      "26/26 [==============================] - 0s 2ms/step - loss: 0.0230 - mse: 0.0230\n",
      "Epoch 18/20\n",
      "26/26 [==============================] - 0s 2ms/step - loss: 0.0265 - mse: 0.0265\n",
      "Epoch 19/20\n",
      "26/26 [==============================] - 0s 2ms/step - loss: 0.0243 - mse: 0.0243\n",
      "Epoch 20/20\n",
      "26/26 [==============================] - 0s 2ms/step - loss: 0.0246 - mse: 0.0246\n"
     ]
    },
    {
     "data": {
      "text/plain": "<keras.callbacks.History at 0x1e8dde9a820>"
     },
     "execution_count": 20,
     "metadata": {},
     "output_type": "execute_result"
    }
   ],
   "source": [
    "# fit the ANN model to the training data\n",
    "regressor_ann.fit(X_train,\n",
    "                  y_train,\n",
    "                  epochs=20,\n",
    "                  batch_size=32\n",
    "                  )"
   ],
   "metadata": {
    "collapsed": false
   }
  },
  {
   "cell_type": "markdown",
   "source": [
    "# <center><b>Recurrent Neural Networks(RNN)</b></center>"
   ],
   "metadata": {
    "collapsed": false
   }
  },
  {
   "cell_type": "code",
   "execution_count": null,
   "outputs": [],
   "source": [],
   "metadata": {
    "collapsed": false
   }
  }
 ]
}
